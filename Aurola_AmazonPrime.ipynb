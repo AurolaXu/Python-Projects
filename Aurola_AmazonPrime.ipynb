{
  "nbformat": 4,
  "nbformat_minor": 0,
  "metadata": {
    "colab": {
      "name": "Aurola_AmazonPrime.ipynb",
      "provenance": [],
      "collapsed_sections": [],
      "toc_visible": true
    },
    "kernelspec": {
      "name": "python3",
      "display_name": "Python 3"
    }
  },
  "cells": [
    {
      "cell_type": "markdown",
      "metadata": {
        "id": "WKf4OSlZPAhM",
        "colab_type": "text"
      },
      "source": [
        "# ** Amazon Prime Video Dataset**\n",
        "Goal: Build a prediction model to predict whether a movie is going to perform well on out platform based on the information in the dataset.\n",
        "\n",
        "Tips: \n",
        "1. how to deal with the missing values\n",
        "2. how to select, transform or engineer new features\n",
        "3. how to choose model and why\n",
        "4. any other patucular insight or thoughts\n"
      ]
    },
    {
      "cell_type": "markdown",
      "metadata": {
        "id": "WVMIzrw3DtdK",
        "colab_type": "text"
      },
      "source": [
        "## **STEP 1: Load Packages and Load Data**"
      ]
    },
    {
      "cell_type": "code",
      "metadata": {
        "id": "cPqROjIqD6Ia",
        "colab_type": "code",
        "colab": {}
      },
      "source": [
        "import numpy as np\n",
        "import pandas as pd\n",
        "import sklearn as sl\n",
        "from sklearn.preprocessing import StandardScaler\n",
        "from sklearn.model_selection import train_test_split\n",
        "import seaborn as sns\n",
        "import matplotlib.pyplot as plt\n",
        "pd.set_option('display.float_format', lambda x: '%.3f' % x) #\n",
        "pd.set_option('display.max_columns',None)\n",
        "pd.set_option('display.max_rows',None)\n",
        "pd.set_option('max_colwidth',100)"
      ],
      "execution_count": 0,
      "outputs": []
    },
    {
      "cell_type": "code",
      "metadata": {
        "id": "fRcXXLr9FBqJ",
        "colab_type": "code",
        "outputId": "cb92914e-c90f-4a3c-c036-b49f90e4c21b",
        "colab": {
          "resources": {
            "http://localhost:8080/nbextensions/google.colab/files.js": {
              "data": "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",
              "ok": true,
              "headers": [
                [
                  "content-type",
                  "application/javascript"
                ]
              ],
              "status": 200,
              "status_text": ""
            }
          },
          "base_uri": "https://localhost:8080/",
          "height": 71
        }
      },
      "source": [
        "from google.colab import files\n",
        "uploaded = files.upload()"
      ],
      "execution_count": 0,
      "outputs": [
        {
          "output_type": "display_data",
          "data": {
            "text/html": [
              "\n",
              "     <input type=\"file\" id=\"files-eeef31e2-acd7-481b-b708-29f9a12cd70a\" name=\"files[]\" multiple disabled />\n",
              "     <output id=\"result-eeef31e2-acd7-481b-b708-29f9a12cd70a\">\n",
              "      Upload widget is only available when the cell has been executed in the\n",
              "      current browser session. Please rerun this cell to enable.\n",
              "      </output>\n",
              "      <script src=\"/nbextensions/google.colab/files.js\"></script> "
            ],
            "text/plain": [
              "<IPython.core.display.HTML object>"
            ]
          },
          "metadata": {
            "tags": []
          }
        },
        {
          "output_type": "stream",
          "text": [
            "Saving TVdata.txt to TVdata (3).txt\n"
          ],
          "name": "stdout"
        }
      ]
    },
    {
      "cell_type": "code",
      "metadata": {
        "id": "0YNAaJsoFPvM",
        "colab_type": "code",
        "outputId": "4ee801fe-8744-426f-8132-0bffc23a7deb",
        "colab": {
          "base_uri": "https://localhost:8080/",
          "height": 595
        }
      },
      "source": [
        "TV=pd.read_table('TVdata.txt',header=0,sep=',',lineterminator='\\n')\n",
        "print(TV.head())"
      ],
      "execution_count": 0,
      "outputs": [
        {
          "output_type": "stream",
          "text": [
            "   video_id  cvt_per_day  weighted_categorical_position  \\\n",
            "0    385504   307127.606                              1   \n",
            "1    300175   270338.426                              1   \n",
            "2    361899   256165.867                              1   \n",
            "3    308314   196622.721                              3   \n",
            "4    307201   159841.652                              1   \n",
            "\n",
            "   weighted_horizontal_poition  import_id  release_year  \\\n",
            "0                            3  lionsgate          2013   \n",
            "1                            3  lionsgate          2013   \n",
            "2                            3      other          2012   \n",
            "3                            4  lionsgate          2008   \n",
            "4                            3  lionsgate          2013   \n",
            "\n",
            "                                          genres  imdb_votes    budget  \\\n",
            "0                          Action,Thriller,Drama       69614  15000000   \n",
            "1                          Comedy,Crime,Thriller       46705  15000000   \n",
            "2                                    Crime,Drama      197596  26000000   \n",
            "3  Thriller,Drama,War,Documentary,Mystery,Action      356339  15000000   \n",
            "4             Crime,Thriller,Mystery,Documentary       46720  27220000   \n",
            "\n",
            "   boxoffice  imdb_rating  duration_in_mins  metacritic_score       awards  \\\n",
            "0   42930462        6.500           112.301                51  other award   \n",
            "1    3301046        6.500            94.983                41     no award   \n",
            "2   37397291        7.300           115.764                58  other award   \n",
            "3   15700000        7.600           130.704                94        Oscar   \n",
            "4    8551228        6.400           105.546                37  other award   \n",
            "\n",
            "    mpaa  star_category  \n",
            "0  PG-13          1.710  \n",
            "1      R          3.250  \n",
            "2      R          2.647  \n",
            "3      R          1.667  \n",
            "4      R          3.067  \n"
          ],
          "name": "stdout"
        }
      ]
    },
    {
      "cell_type": "markdown",
      "metadata": {
        "id": "_Q6D1lG5GrO1",
        "colab_type": "text"
      },
      "source": [
        "## STEP 2: Data Exploration\n"
      ]
    },
    {
      "cell_type": "markdown",
      "metadata": {
        "id": "f9ij8QK3Gv4R",
        "colab_type": "text"
      },
      "source": [
        "### 2.1 Check duplication and exclude erroneous data"
      ]
    },
    {
      "cell_type": "code",
      "metadata": {
        "id": "Td_g9A2cGuSC",
        "colab_type": "code",
        "outputId": "d63d6494-c488-4148-d15e-ecf34286957a",
        "colab": {
          "base_uri": "https://localhost:8080/",
          "height": 34
        }
      },
      "source": [
        "# Each video should only appear once in the list, duplicated video will be removed.\n",
        "if TV.set_index('video_id').index.duplicated().sum()==0:\n",
        "  print('No duplicated video')"
      ],
      "execution_count": 0,
      "outputs": [
        {
          "output_type": "stream",
          "text": [
            "No duplicated video\n"
          ],
          "name": "stdout"
        }
      ]
    },
    {
      "cell_type": "markdown",
      "metadata": {
        "id": "uamQ1QEPJOaN",
        "colab_type": "text"
      },
      "source": [
        "### 2.2 Check Data Type"
      ]
    },
    {
      "cell_type": "code",
      "metadata": {
        "id": "Jps2Q7eMIiPT",
        "colab_type": "code",
        "outputId": "5b43b8d9-39d3-40c2-bd61-0fcf5aa030fc",
        "colab": {
          "base_uri": "https://localhost:8080/",
          "height": 408
        }
      },
      "source": [
        "# get general infromation about data set & Check if the data type is right\n",
        "TV.info()"
      ],
      "execution_count": 0,
      "outputs": [
        {
          "output_type": "stream",
          "text": [
            "<class 'pandas.core.frame.DataFrame'>\n",
            "RangeIndex: 4226 entries, 0 to 4225\n",
            "Data columns (total 16 columns):\n",
            " #   Column                         Non-Null Count  Dtype  \n",
            "---  ------                         --------------  -----  \n",
            " 0   video_id                       4226 non-null   int64  \n",
            " 1   cvt_per_day                    4226 non-null   float64\n",
            " 2   weighted_categorical_position  4226 non-null   int64  \n",
            " 3   weighted_horizontal_poition    4226 non-null   int64  \n",
            " 4   import_id                      4226 non-null   object \n",
            " 5   release_year                   4226 non-null   int64  \n",
            " 6   genres                         4226 non-null   object \n",
            " 7   imdb_votes                     4226 non-null   int64  \n",
            " 8   budget                         4226 non-null   int64  \n",
            " 9   boxoffice                      4226 non-null   int64  \n",
            " 10  imdb_rating                    4226 non-null   float64\n",
            " 11  duration_in_mins               4226 non-null   float64\n",
            " 12  metacritic_score               4226 non-null   int64  \n",
            " 13  awards                         4226 non-null   object \n",
            " 14  mpaa                           4226 non-null   object \n",
            " 15  star_category                  4226 non-null   float64\n",
            "dtypes: float64(4), int64(8), object(4)\n",
            "memory usage: 528.4+ KB\n"
          ],
          "name": "stdout"
        }
      ]
    },
    {
      "cell_type": "markdown",
      "metadata": {
        "id": "VCAouqRpMwrO",
        "colab_type": "text"
      },
      "source": [
        "From the TV data set summary, there are total 4226 distinct movie data points and no null value."
      ]
    },
    {
      "cell_type": "markdown",
      "metadata": {
        "id": "QIPFzmyUJXDl",
        "colab_type": "text"
      },
      "source": [
        "#### 2.2.1 Understand nnumerical features"
      ]
    },
    {
      "cell_type": "code",
      "metadata": {
        "id": "tvu0XIAYKASF",
        "colab_type": "code",
        "outputId": "0be05f9e-95d8-4942-cc99-c763d21035f8",
        "colab": {
          "base_uri": "https://localhost:8080/",
          "height": 317
        }
      },
      "source": [
        "# Get general stat information\n",
        "TV.describe()"
      ],
      "execution_count": 0,
      "outputs": [
        {
          "output_type": "execute_result",
          "data": {
            "text/html": [
              "<div>\n",
              "<style scoped>\n",
              "    .dataframe tbody tr th:only-of-type {\n",
              "        vertical-align: middle;\n",
              "    }\n",
              "\n",
              "    .dataframe tbody tr th {\n",
              "        vertical-align: top;\n",
              "    }\n",
              "\n",
              "    .dataframe thead th {\n",
              "        text-align: right;\n",
              "    }\n",
              "</style>\n",
              "<table border=\"1\" class=\"dataframe\">\n",
              "  <thead>\n",
              "    <tr style=\"text-align: right;\">\n",
              "      <th></th>\n",
              "      <th>video_id</th>\n",
              "      <th>cvt_per_day</th>\n",
              "      <th>weighted_categorical_position</th>\n",
              "      <th>weighted_horizontal_poition</th>\n",
              "      <th>release_year</th>\n",
              "      <th>imdb_votes</th>\n",
              "      <th>budget</th>\n",
              "      <th>boxoffice</th>\n",
              "      <th>imdb_rating</th>\n",
              "      <th>duration_in_mins</th>\n",
              "      <th>metacritic_score</th>\n",
              "      <th>star_category</th>\n",
              "    </tr>\n",
              "  </thead>\n",
              "  <tbody>\n",
              "    <tr>\n",
              "      <th>count</th>\n",
              "      <td>4226.000</td>\n",
              "      <td>4226.000</td>\n",
              "      <td>4226.000</td>\n",
              "      <td>4226.000</td>\n",
              "      <td>4226.000</td>\n",
              "      <td>4226.000</td>\n",
              "      <td>4226.000</td>\n",
              "      <td>4226.000</td>\n",
              "      <td>4226.000</td>\n",
              "      <td>4226.000</td>\n",
              "      <td>4226.000</td>\n",
              "      <td>4226.000</td>\n",
              "    </tr>\n",
              "    <tr>\n",
              "      <th>mean</th>\n",
              "      <td>280371.163</td>\n",
              "      <td>4218.630</td>\n",
              "      <td>7.783</td>\n",
              "      <td>28.104</td>\n",
              "      <td>2001.057</td>\n",
              "      <td>6462.924</td>\n",
              "      <td>2150743.439</td>\n",
              "      <td>2536338.472</td>\n",
              "      <td>5.257</td>\n",
              "      <td>89.556</td>\n",
              "      <td>15.974</td>\n",
              "      <td>0.955</td>\n",
              "    </tr>\n",
              "    <tr>\n",
              "      <th>std</th>\n",
              "      <td>112640.128</td>\n",
              "      <td>13036.080</td>\n",
              "      <td>6.134</td>\n",
              "      <td>11.864</td>\n",
              "      <td>17.497</td>\n",
              "      <td>31596.007</td>\n",
              "      <td>7176604.483</td>\n",
              "      <td>8243516.266</td>\n",
              "      <td>2.123</td>\n",
              "      <td>21.086</td>\n",
              "      <td>26.205</td>\n",
              "      <td>0.955</td>\n",
              "    </tr>\n",
              "    <tr>\n",
              "      <th>min</th>\n",
              "      <td>7909.000</td>\n",
              "      <td>2.188</td>\n",
              "      <td>1.000</td>\n",
              "      <td>1.000</td>\n",
              "      <td>1916.000</td>\n",
              "      <td>0.000</td>\n",
              "      <td>0.000</td>\n",
              "      <td>0.000</td>\n",
              "      <td>0.000</td>\n",
              "      <td>4.037</td>\n",
              "      <td>0.000</td>\n",
              "      <td>0.000</td>\n",
              "    </tr>\n",
              "    <tr>\n",
              "      <th>25%</th>\n",
              "      <td>285104.250</td>\n",
              "      <td>351.169</td>\n",
              "      <td>4.000</td>\n",
              "      <td>20.000</td>\n",
              "      <td>1998.000</td>\n",
              "      <td>81.000</td>\n",
              "      <td>0.000</td>\n",
              "      <td>0.000</td>\n",
              "      <td>4.300</td>\n",
              "      <td>82.602</td>\n",
              "      <td>0.000</td>\n",
              "      <td>0.000</td>\n",
              "    </tr>\n",
              "    <tr>\n",
              "      <th>50%</th>\n",
              "      <td>313891.500</td>\n",
              "      <td>1193.500</td>\n",
              "      <td>6.000</td>\n",
              "      <td>28.000</td>\n",
              "      <td>2008.000</td>\n",
              "      <td>535.000</td>\n",
              "      <td>0.000</td>\n",
              "      <td>0.000</td>\n",
              "      <td>5.800</td>\n",
              "      <td>90.730</td>\n",
              "      <td>0.000</td>\n",
              "      <td>1.000</td>\n",
              "    </tr>\n",
              "    <tr>\n",
              "      <th>75%</th>\n",
              "      <td>349345.750</td>\n",
              "      <td>3356.789</td>\n",
              "      <td>9.000</td>\n",
              "      <td>36.000</td>\n",
              "      <td>2012.000</td>\n",
              "      <td>3053.000</td>\n",
              "      <td>1500000.000</td>\n",
              "      <td>0.000</td>\n",
              "      <td>6.800</td>\n",
              "      <td>99.500</td>\n",
              "      <td>41.000</td>\n",
              "      <td>1.667</td>\n",
              "    </tr>\n",
              "    <tr>\n",
              "      <th>max</th>\n",
              "      <td>394880.000</td>\n",
              "      <td>307127.606</td>\n",
              "      <td>41.000</td>\n",
              "      <td>70.000</td>\n",
              "      <td>2017.000</td>\n",
              "      <td>948630.000</td>\n",
              "      <td>107000000.000</td>\n",
              "      <td>184208848.000</td>\n",
              "      <td>10.000</td>\n",
              "      <td>246.017</td>\n",
              "      <td>100.000</td>\n",
              "      <td>4.000</td>\n",
              "    </tr>\n",
              "  </tbody>\n",
              "</table>\n",
              "</div>"
            ],
            "text/plain": [
              "        video_id  cvt_per_day  weighted_categorical_position  \\\n",
              "count   4226.000     4226.000                       4226.000   \n",
              "mean  280371.163     4218.630                          7.783   \n",
              "std   112640.128    13036.080                          6.134   \n",
              "min     7909.000        2.188                          1.000   \n",
              "25%   285104.250      351.169                          4.000   \n",
              "50%   313891.500     1193.500                          6.000   \n",
              "75%   349345.750     3356.789                          9.000   \n",
              "max   394880.000   307127.606                         41.000   \n",
              "\n",
              "       weighted_horizontal_poition  release_year  imdb_votes        budget  \\\n",
              "count                     4226.000      4226.000    4226.000      4226.000   \n",
              "mean                        28.104      2001.057    6462.924   2150743.439   \n",
              "std                         11.864        17.497   31596.007   7176604.483   \n",
              "min                          1.000      1916.000       0.000         0.000   \n",
              "25%                         20.000      1998.000      81.000         0.000   \n",
              "50%                         28.000      2008.000     535.000         0.000   \n",
              "75%                         36.000      2012.000    3053.000   1500000.000   \n",
              "max                         70.000      2017.000  948630.000 107000000.000   \n",
              "\n",
              "          boxoffice  imdb_rating  duration_in_mins  metacritic_score  \\\n",
              "count      4226.000     4226.000          4226.000          4226.000   \n",
              "mean    2536338.472        5.257            89.556            15.974   \n",
              "std     8243516.266        2.123            21.086            26.205   \n",
              "min           0.000        0.000             4.037             0.000   \n",
              "25%           0.000        4.300            82.602             0.000   \n",
              "50%           0.000        5.800            90.730             0.000   \n",
              "75%           0.000        6.800            99.500            41.000   \n",
              "max   184208848.000       10.000           246.017           100.000   \n",
              "\n",
              "       star_category  \n",
              "count       4226.000  \n",
              "mean           0.955  \n",
              "std            0.955  \n",
              "min            0.000  \n",
              "25%            0.000  \n",
              "50%            1.000  \n",
              "75%            1.667  \n",
              "max            4.000  "
            ]
          },
          "metadata": {
            "tags": []
          },
          "execution_count": 198
        }
      ]
    },
    {
      "cell_type": "code",
      "metadata": {
        "id": "sPqLOOV6Kxs-",
        "colab_type": "code",
        "outputId": "c9803d41-7c8f-4643-88ec-10006526d7cd",
        "colab": {
          "base_uri": "https://localhost:8080/",
          "height": 612
        }
      },
      "source": [
        "# Drop'video_id','release_year' and manually get more detailed stat information about other features\n",
        "print(TV.drop(columns=['video_id','release_year'],axis=1).describe(percentiles=[0.1,0.25,0.5,0.75,0.95]))"
      ],
      "execution_count": 0,
      "outputs": [
        {
          "output_type": "stream",
          "text": [
            "       cvt_per_day  weighted_categorical_position  \\\n",
            "count     4226.000                       4226.000   \n",
            "mean      4218.630                          7.783   \n",
            "std      13036.080                          6.134   \n",
            "min          2.188                          1.000   \n",
            "10%        141.985                          3.000   \n",
            "25%        351.169                          4.000   \n",
            "50%       1193.500                          6.000   \n",
            "75%       3356.789                          9.000   \n",
            "95%      14692.834                         22.000   \n",
            "max     307127.606                         41.000   \n",
            "\n",
            "       weighted_horizontal_poition  imdb_votes        budget     boxoffice  \\\n",
            "count                     4226.000    4226.000      4226.000      4226.000   \n",
            "mean                        28.104    6462.924   2150743.439   2536338.472   \n",
            "std                         11.864   31596.007   7176604.483   8243516.266   \n",
            "min                          1.000       0.000         0.000         0.000   \n",
            "10%                         13.000       8.000         0.000         0.000   \n",
            "25%                         20.000      81.000         0.000         0.000   \n",
            "50%                         28.000     535.000         0.000         0.000   \n",
            "75%                         36.000    3053.000   1500000.000         0.000   \n",
            "95%                         48.000   26199.500  12000000.000   8551228.000   \n",
            "max                         70.000  948630.000 107000000.000 184208848.000   \n",
            "\n",
            "       imdb_rating  duration_in_mins  metacritic_score  star_category  \n",
            "count     4226.000          4226.000          4226.000       4226.000  \n",
            "mean         5.257            89.556            15.974          0.955  \n",
            "std          2.123            21.086            26.205          0.955  \n",
            "min          0.000             4.037             0.000          0.000  \n",
            "10%          2.300            62.391             0.000          0.000  \n",
            "25%          4.300            82.602             0.000          0.000  \n",
            "50%          5.800            90.730             0.000          1.000  \n",
            "75%          6.800            99.500            41.000          1.667  \n",
            "95%          7.800           119.131            65.000          2.597  \n",
            "max         10.000           246.017           100.000          4.000  \n"
          ],
          "name": "stdout"
        }
      ]
    },
    {
      "cell_type": "markdown",
      "metadata": {
        "id": "LNfAmh10L-bD",
        "colab_type": "text"
      },
      "source": [
        "From the summary of stat information above, i noticed that the value for \"imdb_vote\", \"budget\", \"boxoffice\",\"metacritic_score\", and \"star_category\" don't make much sense because the budget for a movie is not possible to be zero. The 10% percentile to 75% percentile of the boxoffice is not possible to be zero as well.\n",
        "Hence, here must be some missing value (Value == 0 in this case) in the data set."
      ]
    },
    {
      "cell_type": "code",
      "metadata": {
        "id": "bBnDe0v2LUFx",
        "colab_type": "code",
        "outputId": "c0389d6c-8b6b-4a61-9a56-f72b037887c0",
        "colab": {
          "base_uri": "https://localhost:8080/",
          "height": 306
        }
      },
      "source": [
        "# Check all the columns with the value == 0 and get the percentage of zero value for each feature\n",
        "(TV==0).sum(axis=0)/TV.shape[0]"
      ],
      "execution_count": 0,
      "outputs": [
        {
          "output_type": "execute_result",
          "data": {
            "text/plain": [
              "video_id                        0.000\n",
              "cvt_per_day                     0.000\n",
              "weighted_categorical_position   0.000\n",
              "weighted_horizontal_poition     0.000\n",
              "import_id                       0.000\n",
              "release_year                    0.000\n",
              "genres                          0.000\n",
              "imdb_votes                      0.081\n",
              "budget                          0.581\n",
              "boxoffice                       0.756\n",
              "imdb_rating                     0.081\n",
              "duration_in_mins                0.000\n",
              "metacritic_score                0.713\n",
              "awards                          0.000\n",
              "mpaa                            0.000\n",
              "star_category                   0.437\n",
              "dtype: float64"
            ]
          },
          "metadata": {
            "tags": []
          },
          "execution_count": 200
        }
      ]
    },
    {
      "cell_type": "markdown",
      "metadata": {
        "id": "hwgQiK69NaYG",
        "colab_type": "text"
      },
      "source": [
        "The result proofs my previous concern that features like \"imdb_votes\", \"budget\",\"boxoffice\", \"imdb_rating\",\"metacritic_score\",and \"star_category\" all contain zero value. However, the \"imdb_rating\" could be right because the percentage of zero value is relatively small and it's poosible for people to give 0 rating to a movie. \n",
        "I need to handle the zero value in the other features."
      ]
    },
    {
      "cell_type": "markdown",
      "metadata": {
        "id": "mP8w5M0GS3tt",
        "colab_type": "text"
      },
      "source": [
        "#####  Chekck the dependent feature"
      ]
    },
    {
      "cell_type": "code",
      "metadata": {
        "id": "vZKJurQlOTqy",
        "colab_type": "code",
        "outputId": "19829d15-990c-4b47-c947-751db9ff3a7e",
        "colab": {
          "base_uri": "https://localhost:8080/",
          "height": 296
        }
      },
      "source": [
        "''' The goal is to predict the popularity of a movie. In this case, I choose \"cvt_per_day\" feature, \n",
        "a cumulative view time per day, as the evaluation feature to make it simple. '''\n",
        "#  Check out the \"cvt_per_day\" feature\n",
        "plt.hist(TV['cvt_per_day'],bins=range(0,15000,30),color='r',label='cvt_per_day')\n",
        "plt.title('Historgrams of cvt_per_day before data processing')\n",
        "plt.legend(loc='upper right')\n",
        "plt.xlabel('cvt_per_day')\n",
        "plt.ylabel('density')\n",
        "plt.show()"
      ],
      "execution_count": 0,
      "outputs": [
        {
          "output_type": "display_data",
          "data": {
            "image/png": "[encoded data removed]",
            "text/plain": [
              "<Figure size 432x288 with 1 Axes>"
            ]
          },
          "metadata": {
            "tags": []
          }
        }
      ]
    },
    {
      "cell_type": "markdown",
      "metadata": {
        "id": "g1HeEftJRyZF",
        "colab_type": "text"
      },
      "source": [
        "As we can see, the popularity, which is measured by cumulative view time per day, of a movie follows the long tail theory that only small portion of all the movies are super popular (around 700) and reach over 40 views a day, while the others'(around 3500) view remain low.\n"
      ]
    },
    {
      "cell_type": "markdown",
      "metadata": {
        "id": "5wmLWSFUTJag",
        "colab_type": "text"
      },
      "source": [
        "##### Check the independent features"
      ]
    },
    {
      "cell_type": "code",
      "metadata": {
        "id": "XvRi2_X_SegZ",
        "colab_type": "code",
        "outputId": "7c989fac-7fcc-4cda-972f-03a1ace5a3d6",
        "colab": {
          "base_uri": "https://localhost:8080/",
          "height": 428
        }
      },
      "source": [
        "# After having a look into the target feature, let's see the indepedent feartures and check their correlation.\n",
        "corr = TV[['cvt_per_day','weighted_categorical_position','weighted_horizontal_poition'\n",
        "               ,'release_year', 'imdb_votes', 'budget', 'boxoffice' ,'imdb_rating', \n",
        "               'duration_in_mins', 'metacritic_score', 'star_category']].corr()\n",
        "sns.heatmap(corr, cmap=\"YlGnBu\")"
      ],
      "execution_count": 0,
      "outputs": [
        {
          "output_type": "execute_result",
          "data": {
            "text/plain": [
              "<matplotlib.axes._subplots.AxesSubplot at 0x7fa3b0ea4048>"
            ]
          },
          "metadata": {
            "tags": []
          },
          "execution_count": 202
        },
        {
          "output_type": "display_data",
          "data": {
            "image/png": "[encoded data removed]",
            "text/plain": [
              "<Figure size 432x288 with 2 Axes>"
            ]
          },
          "metadata": {
            "tags": []
          }
        }
      ]
    },
    {
      "cell_type": "markdown",
      "metadata": {
        "id": "0rM6W9_4VDpW",
        "colab_type": "text"
      },
      "source": [
        "The darker the blue is the higher correlation between two features. From the correlation heatmap, I think everything looks pretty good, while the \"imdb_vote\" and \"boxoffice\" have some correlation around 0.5. Let's get a more clear numercial look."
      ]
    },
    {
      "cell_type": "code",
      "metadata": {
        "id": "ohJijwY_VjIC",
        "colab_type": "code",
        "outputId": "5d08ca2e-8525-4716-827a-b56a311c795f",
        "colab": {
          "base_uri": "https://localhost:8080/",
          "height": 410
        }
      },
      "source": [
        "# show the correlation numerically\n",
        "corr"
      ],
      "execution_count": 0,
      "outputs": [
        {
          "output_type": "execute_result",
          "data": {
            "text/html": [
              "<div>\n",
              "<style scoped>\n",
              "    .dataframe tbody tr th:only-of-type {\n",
              "        vertical-align: middle;\n",
              "    }\n",
              "\n",
              "    .dataframe tbody tr th {\n",
              "        vertical-align: top;\n",
              "    }\n",
              "\n",
              "    .dataframe thead th {\n",
              "        text-align: right;\n",
              "    }\n",
              "</style>\n",
              "<table border=\"1\" class=\"dataframe\">\n",
              "  <thead>\n",
              "    <tr style=\"text-align: right;\">\n",
              "      <th></th>\n",
              "      <th>cvt_per_day</th>\n",
              "      <th>weighted_categorical_position</th>\n",
              "      <th>weighted_horizontal_poition</th>\n",
              "      <th>release_year</th>\n",
              "      <th>imdb_votes</th>\n",
              "      <th>budget</th>\n",
              "      <th>boxoffice</th>\n",
              "      <th>imdb_rating</th>\n",
              "      <th>duration_in_mins</th>\n",
              "      <th>metacritic_score</th>\n",
              "      <th>star_category</th>\n",
              "    </tr>\n",
              "  </thead>\n",
              "  <tbody>\n",
              "    <tr>\n",
              "      <th>cvt_per_day</th>\n",
              "      <td>1.000</td>\n",
              "      <td>-0.148</td>\n",
              "      <td>-0.302</td>\n",
              "      <td>0.046</td>\n",
              "      <td>0.298</td>\n",
              "      <td>0.316</td>\n",
              "      <td>0.312</td>\n",
              "      <td>0.059</td>\n",
              "      <td>0.152</td>\n",
              "      <td>0.249</td>\n",
              "      <td>0.247</td>\n",
              "    </tr>\n",
              "    <tr>\n",
              "      <th>weighted_categorical_position</th>\n",
              "      <td>-0.148</td>\n",
              "      <td>1.000</td>\n",
              "      <td>-0.084</td>\n",
              "      <td>-0.069</td>\n",
              "      <td>-0.064</td>\n",
              "      <td>-0.090</td>\n",
              "      <td>-0.074</td>\n",
              "      <td>-0.116</td>\n",
              "      <td>-0.174</td>\n",
              "      <td>-0.044</td>\n",
              "      <td>-0.123</td>\n",
              "    </tr>\n",
              "    <tr>\n",
              "      <th>weighted_horizontal_poition</th>\n",
              "      <td>-0.302</td>\n",
              "      <td>-0.084</td>\n",
              "      <td>1.000</td>\n",
              "      <td>0.027</td>\n",
              "      <td>-0.221</td>\n",
              "      <td>-0.211</td>\n",
              "      <td>-0.245</td>\n",
              "      <td>-0.162</td>\n",
              "      <td>-0.102</td>\n",
              "      <td>-0.255</td>\n",
              "      <td>-0.168</td>\n",
              "    </tr>\n",
              "    <tr>\n",
              "      <th>release_year</th>\n",
              "      <td>0.046</td>\n",
              "      <td>-0.069</td>\n",
              "      <td>0.027</td>\n",
              "      <td>1.000</td>\n",
              "      <td>-0.083</td>\n",
              "      <td>-0.040</td>\n",
              "      <td>-0.128</td>\n",
              "      <td>-0.199</td>\n",
              "      <td>-0.097</td>\n",
              "      <td>-0.167</td>\n",
              "      <td>-0.198</td>\n",
              "    </tr>\n",
              "    <tr>\n",
              "      <th>imdb_votes</th>\n",
              "      <td>0.298</td>\n",
              "      <td>-0.064</td>\n",
              "      <td>-0.221</td>\n",
              "      <td>-0.083</td>\n",
              "      <td>1.000</td>\n",
              "      <td>0.273</td>\n",
              "      <td>0.531</td>\n",
              "      <td>0.163</td>\n",
              "      <td>0.156</td>\n",
              "      <td>0.322</td>\n",
              "      <td>0.225</td>\n",
              "    </tr>\n",
              "    <tr>\n",
              "      <th>budget</th>\n",
              "      <td>0.316</td>\n",
              "      <td>-0.090</td>\n",
              "      <td>-0.211</td>\n",
              "      <td>-0.040</td>\n",
              "      <td>0.273</td>\n",
              "      <td>1.000</td>\n",
              "      <td>0.505</td>\n",
              "      <td>0.106</td>\n",
              "      <td>0.251</td>\n",
              "      <td>0.315</td>\n",
              "      <td>0.322</td>\n",
              "    </tr>\n",
              "    <tr>\n",
              "      <th>boxoffice</th>\n",
              "      <td>0.312</td>\n",
              "      <td>-0.074</td>\n",
              "      <td>-0.245</td>\n",
              "      <td>-0.128</td>\n",
              "      <td>0.531</td>\n",
              "      <td>0.505</td>\n",
              "      <td>1.000</td>\n",
              "      <td>0.164</td>\n",
              "      <td>0.226</td>\n",
              "      <td>0.465</td>\n",
              "      <td>0.322</td>\n",
              "    </tr>\n",
              "    <tr>\n",
              "      <th>imdb_rating</th>\n",
              "      <td>0.059</td>\n",
              "      <td>-0.116</td>\n",
              "      <td>-0.162</td>\n",
              "      <td>-0.199</td>\n",
              "      <td>0.163</td>\n",
              "      <td>0.106</td>\n",
              "      <td>0.164</td>\n",
              "      <td>1.000</td>\n",
              "      <td>0.344</td>\n",
              "      <td>0.347</td>\n",
              "      <td>0.192</td>\n",
              "    </tr>\n",
              "    <tr>\n",
              "      <th>duration_in_mins</th>\n",
              "      <td>0.152</td>\n",
              "      <td>-0.174</td>\n",
              "      <td>-0.102</td>\n",
              "      <td>-0.097</td>\n",
              "      <td>0.156</td>\n",
              "      <td>0.251</td>\n",
              "      <td>0.226</td>\n",
              "      <td>0.344</td>\n",
              "      <td>1.000</td>\n",
              "      <td>0.327</td>\n",
              "      <td>0.309</td>\n",
              "    </tr>\n",
              "    <tr>\n",
              "      <th>metacritic_score</th>\n",
              "      <td>0.249</td>\n",
              "      <td>-0.044</td>\n",
              "      <td>-0.255</td>\n",
              "      <td>-0.167</td>\n",
              "      <td>0.322</td>\n",
              "      <td>0.315</td>\n",
              "      <td>0.465</td>\n",
              "      <td>0.347</td>\n",
              "      <td>0.327</td>\n",
              "      <td>1.000</td>\n",
              "      <td>0.452</td>\n",
              "    </tr>\n",
              "    <tr>\n",
              "      <th>star_category</th>\n",
              "      <td>0.247</td>\n",
              "      <td>-0.123</td>\n",
              "      <td>-0.168</td>\n",
              "      <td>-0.198</td>\n",
              "      <td>0.225</td>\n",
              "      <td>0.322</td>\n",
              "      <td>0.322</td>\n",
              "      <td>0.192</td>\n",
              "      <td>0.309</td>\n",
              "      <td>0.452</td>\n",
              "      <td>1.000</td>\n",
              "    </tr>\n",
              "  </tbody>\n",
              "</table>\n",
              "</div>"
            ],
            "text/plain": [
              "                               cvt_per_day  weighted_categorical_position  \\\n",
              "cvt_per_day                          1.000                         -0.148   \n",
              "weighted_categorical_position       -0.148                          1.000   \n",
              "weighted_horizontal_poition         -0.302                         -0.084   \n",
              "release_year                         0.046                         -0.069   \n",
              "imdb_votes                           0.298                         -0.064   \n",
              "budget                               0.316                         -0.090   \n",
              "boxoffice                            0.312                         -0.074   \n",
              "imdb_rating                          0.059                         -0.116   \n",
              "duration_in_mins                     0.152                         -0.174   \n",
              "metacritic_score                     0.249                         -0.044   \n",
              "star_category                        0.247                         -0.123   \n",
              "\n",
              "                               weighted_horizontal_poition  release_year  \\\n",
              "cvt_per_day                                         -0.302         0.046   \n",
              "weighted_categorical_position                       -0.084        -0.069   \n",
              "weighted_horizontal_poition                          1.000         0.027   \n",
              "release_year                                         0.027         1.000   \n",
              "imdb_votes                                          -0.221        -0.083   \n",
              "budget                                              -0.211        -0.040   \n",
              "boxoffice                                           -0.245        -0.128   \n",
              "imdb_rating                                         -0.162        -0.199   \n",
              "duration_in_mins                                    -0.102        -0.097   \n",
              "metacritic_score                                    -0.255        -0.167   \n",
              "star_category                                       -0.168        -0.198   \n",
              "\n",
              "                               imdb_votes  budget  boxoffice  imdb_rating  \\\n",
              "cvt_per_day                         0.298   0.316      0.312        0.059   \n",
              "weighted_categorical_position      -0.064  -0.090     -0.074       -0.116   \n",
              "weighted_horizontal_poition        -0.221  -0.211     -0.245       -0.162   \n",
              "release_year                       -0.083  -0.040     -0.128       -0.199   \n",
              "imdb_votes                          1.000   0.273      0.531        0.163   \n",
              "budget                              0.273   1.000      0.505        0.106   \n",
              "boxoffice                           0.531   0.505      1.000        0.164   \n",
              "imdb_rating                         0.163   0.106      0.164        1.000   \n",
              "duration_in_mins                    0.156   0.251      0.226        0.344   \n",
              "metacritic_score                    0.322   0.315      0.465        0.347   \n",
              "star_category                       0.225   0.322      0.322        0.192   \n",
              "\n",
              "                               duration_in_mins  metacritic_score  \\\n",
              "cvt_per_day                               0.152             0.249   \n",
              "weighted_categorical_position            -0.174            -0.044   \n",
              "weighted_horizontal_poition              -0.102            -0.255   \n",
              "release_year                             -0.097            -0.167   \n",
              "imdb_votes                                0.156             0.322   \n",
              "budget                                    0.251             0.315   \n",
              "boxoffice                                 0.226             0.465   \n",
              "imdb_rating                               0.344             0.347   \n",
              "duration_in_mins                          1.000             0.327   \n",
              "metacritic_score                          0.327             1.000   \n",
              "star_category                             0.309             0.452   \n",
              "\n",
              "                               star_category  \n",
              "cvt_per_day                            0.247  \n",
              "weighted_categorical_position         -0.123  \n",
              "weighted_horizontal_poition           -0.168  \n",
              "release_year                          -0.198  \n",
              "imdb_votes                             0.225  \n",
              "budget                                 0.322  \n",
              "boxoffice                              0.322  \n",
              "imdb_rating                            0.192  \n",
              "duration_in_mins                       0.309  \n",
              "metacritic_score                       0.452  \n",
              "star_category                          1.000  "
            ]
          },
          "metadata": {
            "tags": []
          },
          "execution_count": 203
        }
      ]
    },
    {
      "cell_type": "markdown",
      "metadata": {
        "id": "3QX8rbSwwitl",
        "colab_type": "text"
      },
      "source": [
        "Since all of the correlation is greater than zero, so I assume all of the features are useful to the prediction."
      ]
    },
    {
      "cell_type": "markdown",
      "metadata": {
        "id": "-v2E5OYrV1HE",
        "colab_type": "text"
      },
      "source": [
        "#### 2.2.2  Understand Categorical Features"
      ]
    },
    {
      "cell_type": "markdown",
      "metadata": {
        "id": "6OeoR_zYWOor",
        "colab_type": "text"
      },
      "source": [
        "**There** are 4 categorical features in this dataset, \"import_id\", \"mpaa\",\"awards\", and \"genres\". From the previous exploration, \"genres\" is more complicated than other categorial features so I will deal with the 3 easy ones first."
      ]
    },
    {
      "cell_type": "code",
      "metadata": {
        "id": "tqg8ZK8bWNvF",
        "colab_type": "code",
        "outputId": "2916fbee-86a4-4f7d-97a0-eca5725de6e1",
        "colab": {
          "base_uri": "https://localhost:8080/",
          "height": 381
        }
      },
      "source": [
        "# The count summary and visualization of the \"import_id\" with the strip plot (boxplot,swarmplot,violin plot also works)\n",
        "sns.stripplot(x='import_id', y='cvt_per_day', data=TV,jitter=0.25)\n",
        "plt.title('import_id stripplot')\n",
        "plt.show()\n",
        "print(TV['import_id'].value_counts())"
      ],
      "execution_count": 0,
      "outputs": [
        {
          "output_type": "display_data",
          "data": {
            "image/png": "[encoded data removed]",
            "text/plain": [
              "<Figure size 432x288 with 1 Axes>"
            ]
          },
          "metadata": {
            "tags": []
          }
        },
        {
          "output_type": "stream",
          "text": [
            "other        2963\n",
            "lionsgate     677\n",
            "mgm           445\n",
            "paramount     141\n",
            "Name: import_id, dtype: int64\n"
          ],
          "name": "stdout"
        }
      ]
    },
    {
      "cell_type": "code",
      "metadata": {
        "id": "PD_lY2o5X8ij",
        "colab_type": "code",
        "outputId": "6deb623a-dbf4-45f3-fa71-4f54ae334299",
        "colab": {
          "base_uri": "https://localhost:8080/",
          "height": 794
        }
      },
      "source": [
        "sns.stripplot(x='mpaa', y='cvt_per_day', data=TV,jitter=True)\n",
        "plt.title('mpaa stripplot')\n",
        "plt.show()\n",
        "print(TV['mpaa'].value_counts())\n",
        "\n",
        "\n",
        "sns.stripplot(x='awards', y='cvt_per_day', data=TV, jitter=True)\n",
        "plt.title('awards stripplot')\n",
        "plt.show()\n",
        "print(TV['awards'].value_counts())"
      ],
      "execution_count": 0,
      "outputs": [
        {
          "output_type": "display_data",
          "data": {
            "image/png": "[encoded data removed]",
            "text/plain": [
              "<Figure size 432x288 with 1 Axes>"
            ]
          },
          "metadata": {
            "tags": []
          }
        },
        {
          "output_type": "stream",
          "text": [
            "NotRated    2158\n",
            "R           1158\n",
            "PG-13        426\n",
            "PG           353\n",
            "G            125\n",
            "NC-17          6\n",
            "Name: mpaa, dtype: int64\n"
          ],
          "name": "stdout"
        },
        {
          "output_type": "display_data",
          "data": {
            "image/png": "[encoded data removed]",
            "text/plain": [
              "<Figure size 432x288 with 1 Axes>"
            ]
          },
          "metadata": {
            "tags": []
          }
        },
        {
          "output_type": "stream",
          "text": [
            "no award        2569\n",
            "other award     1453\n",
            "Oscar            141\n",
            "Golden Globe      44\n",
            "BAFTA             19\n",
            "Name: awards, dtype: int64\n"
          ],
          "name": "stdout"
        }
      ]
    },
    {
      "cell_type": "code",
      "metadata": {
        "id": "XNNdR0DGZ6Vd",
        "colab_type": "code",
        "outputId": "d1f0a887-5abb-4dd7-ca11-e468735e1a41",
        "colab": {
          "base_uri": "https://localhost:8080/",
          "height": 853
        }
      },
      "source": [
        "''' Some videos belongs to more than 1 genre, I need to split the genre of each video \n",
        "that would help emphasize the effect of each individual genre. '''\n",
        "# generes exploration: split the genre of each video \n",
        "gen_split = TV['genres'].str.get_dummies(sep=',').sum().sort_values(ascending=False)\n",
        "print(gen_split)\n",
        "# visualization\n",
        "gen_split.sort_values(ascending=False).plot.bar()"
      ],
      "execution_count": 0,
      "outputs": [
        {
          "output_type": "stream",
          "text": [
            "Drama                    1677\n",
            "Comedy                   1184\n",
            "Thriller                  879\n",
            "Horror                    762\n",
            "Action                    739\n",
            "Documentary               671\n",
            "Romance                   591\n",
            "Crime                     437\n",
            "Independent               393\n",
            "Mystery                   375\n",
            "Adventure                 363\n",
            "Sci-Fi                    363\n",
            "Kids & Family             280\n",
            "Fantasy                   243\n",
            "Music                     171\n",
            "Animation                 129\n",
            "War                       102\n",
            "Western                   102\n",
            "Sport                      77\n",
            "Musicals                   68\n",
            "Foreign/International      64\n",
            "Anime                      11\n",
            "Reality                     9\n",
            "Lifestyle                   7\n",
            "Adult                       3\n",
            "LGBT                        2\n",
            "Holiday                     1\n",
            "dtype: int64\n"
          ],
          "name": "stdout"
        },
        {
          "output_type": "execute_result",
          "data": {
            "text/plain": [
              "<matplotlib.axes._subplots.AxesSubplot at 0x7fa3b01876a0>"
            ]
          },
          "metadata": {
            "tags": []
          },
          "execution_count": 206
        },
        {
          "output_type": "display_data",
          "data": {
            "image/png": "[encoded data removed]",
            "text/plain": [
              "<Figure size 432x288 with 1 Axes>"
            ]
          },
          "metadata": {
            "tags": []
          }
        }
      ]
    },
    {
      "cell_type": "markdown",
      "metadata": {
        "id": "4YCkMElWbVgS",
        "colab_type": "text"
      },
      "source": [
        "\"Anime,Reality,Lifestyle,Adult,LGBT,Holiday\" have the least amount of movie production. In order to convient futurn encoding, I will bin those genres together in the feature preprocessing.          "
      ]
    },
    {
      "cell_type": "code",
      "metadata": {
        "id": "eIG8QnVGcLxj",
        "colab_type": "code",
        "outputId": "a5d4638d-d547-4af5-9f46-834902fb1dc8",
        "colab": {
          "base_uri": "https://localhost:8080/",
          "height": 296
        }
      },
      "source": [
        "''' The \"release_year\" is a speacial categocial feature as well even though it's data type is integer.\n",
        "The release year of video varies through a wide range. Considering the popularity of a video usually \n",
        "decays over time,the release_year should be bucketed based on the release_year range. '''\n",
        "plt.hist(TV['release_year'].values, bins = range(1910, 2017, 1), color='r', label = 'release_year')\n",
        "plt.legend(loc ='upper left')\n",
        "plt.title('Historgrams of release_year before data processing')\n",
        "plt.xlabel('release_year')\n",
        "plt.ylabel('density')\n",
        "plt.show()"
      ],
      "execution_count": 0,
      "outputs": [
        {
          "output_type": "display_data",
          "data": {
            "image/png": "[encoded data removed]",
            "text/plain": [
              "<Figure size 432x288 with 1 Axes>"
            ]
          },
          "metadata": {
            "tags": []
          }
        }
      ]
    },
    {
      "cell_type": "markdown",
      "metadata": {
        "id": "X3IZzes7djlF",
        "colab_type": "text"
      },
      "source": [
        "This histogram shows my previous assumption that the popularity of a video usually \n",
        "decays over time is right."
      ]
    },
    {
      "cell_type": "markdown",
      "metadata": {
        "id": "9IVownDKdtdu",
        "colab_type": "text"
      },
      "source": [
        "## STEP 3: Feature Preprocssing"
      ]
    },
    {
      "cell_type": "markdown",
      "metadata": {
        "id": "P-i7nX_ReEeR",
        "colab_type": "text"
      },
      "source": [
        "After very basic Exploratory Data Analysis, I have to do some data cleaning and data preprocessing.\n",
        "We need three steps to do with the feature preprocssing.\n",
        "1. Encode the categorical feature\n",
        "2. Impute the missing value for both numeric and categorical features\n",
        "3. Scale out features, which can be better for models' performance"
      ]
    },
    {
      "cell_type": "markdown",
      "metadata": {
        "id": "3Ra66hdTeMXT",
        "colab_type": "text"
      },
      "source": [
        "### 3.1 Encode categorical features"
      ]
    },
    {
      "cell_type": "markdown",
      "metadata": {
        "id": "e-u8M-dQeXiZ",
        "colab_type": "text"
      },
      "source": [
        "There are 5 categorical features in total: import_id, mpaa, awards, genres, and release_year. There is no missing data in them. They can be converted into dummy varibles.\n",
        "\n",
        "The first 3 have relatively small sub-types, they can be easily converted to dummies.\n",
        "\n",
        "The 'genres' have 27 different sub-types, 6 of them are rarely observed (refer to previous section). It's reasonable to group these 6 into 1. Note: a video may have more than one genre, in the feature preprocessing, all genres are handled individually.\n",
        "\n",
        "The release_year is bined into 10 buckets based on the year range between 1917 and 2017."
      ]
    },
    {
      "cell_type": "code",
      "metadata": {
        "id": "x2Ac3cWkew6E",
        "colab_type": "code",
        "colab": {}
      },
      "source": [
        "# Convert 3 Categorical variables into dummy variables\n",
        "d_import_id = pd.get_dummies(TV[['import_id','mpaa','awards']]).astype(np.int64)\n",
        "#d_mpaa = pd.get_dummies(TV['mpaa']).astype(np.int64)\n",
        "#d_awards = pd.get_dummies(TV['awards']).astype(np.int64)"
      ],
      "execution_count": 0,
      "outputs": []
    },
    {
      "cell_type": "code",
      "metadata": {
        "id": "cFlJSfGufzBB",
        "colab_type": "code",
        "colab": {}
      },
      "source": [
        "# Convert 'genres' into dummy variables\n",
        "d_genres=TV['genres'].str.get_dummies(sep=',').astype(np.int64)\n",
        "d_genres['Misc_genres']=d_genres['Anime']|d_genres['Reality']|d_genres['Lifestyle']|d_genres['Adult']|d_genres['LGBT']|d_genres['Holiday']\n",
        "d_genres.drop(['Anime', 'Reality','Lifestyle', 'Adult','LGBT','Holiday'], inplace=True, axis=1)"
      ],
      "execution_count": 0,
      "outputs": []
    },
    {
      "cell_type": "code",
      "metadata": {
        "id": "rafqdkCEhnR6",
        "colab_type": "code",
        "outputId": "47c4647b-74d9-42d4-91a3-328e8822a5a0",
        "colab": {
          "base_uri": "https://localhost:8080/",
          "height": 272
        }
      },
      "source": [
        "# bin release_year and convert into dummies based on percentiles\n",
        "TV['release_year'].describe(percentiles=[0.1,0.2,0.3,0.4,0.5,0.6,0.7,0.8,0.9])"
      ],
      "execution_count": 0,
      "outputs": [
        {
          "output_type": "execute_result",
          "data": {
            "text/plain": [
              "count   4226.000\n",
              "mean    2001.057\n",
              "std       17.497\n",
              "min     1916.000\n",
              "10%     1974.000\n",
              "20%     1991.000\n",
              "30%     2001.000\n",
              "40%     2006.000\n",
              "50%     2008.000\n",
              "60%     2010.000\n",
              "70%     2012.000\n",
              "80%     2013.000\n",
              "90%     2014.000\n",
              "max     2017.000\n",
              "Name: release_year, dtype: float64"
            ]
          },
          "metadata": {
            "tags": []
          },
          "execution_count": 210
        }
      ]
    },
    {
      "cell_type": "code",
      "metadata": {
        "id": "XKMmoCQnisZa",
        "colab_type": "code",
        "colab": {}
      },
      "source": [
        "bin_year = [1916, 1974, 1991, 2001, 2006, 2008, 2010, 2012, 2013, 2014, 2017]\n",
        "year_range = ['1916-1974', '1974-1991', '1991-2001', '2001-2006','2006-2008','2008-2010','2010-2012','2012-2013',\n",
        "              '2013-2014','2014-2017']\n",
        "year_bin = pd.cut(TV['release_year'], bin_year, labels=year_range)\n",
        "d_year = pd.get_dummies(year_bin).astype(np.int64)"
      ],
      "execution_count": 0,
      "outputs": []
    },
    {
      "cell_type": "code",
      "metadata": {
        "id": "3L7Ab2_CizsD",
        "colab_type": "code",
        "outputId": "7dd49d71-2330-4987-cace-d21c7aa3654b",
        "colab": {
          "base_uri": "https://localhost:8080/",
          "height": 1000
        }
      },
      "source": [
        "# Creat new dataframe, drop the previous categorical features, add new dummy variables\n",
        "temp_tv=TV.drop(['import_id', 'mpaa','awards','genres', 'release_year'], axis=1)\n",
        "newTV = pd.concat([temp_tv, d_import_id, d_mpaa, d_awards, d_genres, d_year], axis=1)\n",
        "print(newTV.head())"
      ],
      "execution_count": 0,
      "outputs": [
        {
          "output_type": "stream",
          "text": [
            "   video_id  cvt_per_day  weighted_categorical_position  \\\n",
            "0    385504   307127.606                              1   \n",
            "1    300175   270338.426                              1   \n",
            "2    361899   256165.867                              1   \n",
            "3    308314   196622.721                              3   \n",
            "4    307201   159841.652                              1   \n",
            "\n",
            "   weighted_horizontal_poition  imdb_votes    budget  boxoffice  imdb_rating  \\\n",
            "0                            3       69614  15000000   42930462        6.500   \n",
            "1                            3       46705  15000000    3301046        6.500   \n",
            "2                            3      197596  26000000   37397291        7.300   \n",
            "3                            4      356339  15000000   15700000        7.600   \n",
            "4                            3       46720  27220000    8551228        6.400   \n",
            "\n",
            "   duration_in_mins  metacritic_score  star_category  import_id_lionsgate  \\\n",
            "0           112.301                51          1.710                    1   \n",
            "1            94.983                41          3.250                    1   \n",
            "2           115.764                58          2.647                    0   \n",
            "3           130.704                94          1.667                    1   \n",
            "4           105.546                37          3.067                    1   \n",
            "\n",
            "   import_id_mgm  import_id_other  import_id_paramount  mpaa_G  mpaa_NC-17  \\\n",
            "0              0                0                    0       0           0   \n",
            "1              0                0                    0       0           0   \n",
            "2              0                1                    0       0           0   \n",
            "3              0                0                    0       0           0   \n",
            "4              0                0                    0       0           0   \n",
            "\n",
            "   mpaa_NotRated  mpaa_PG  mpaa_PG-13  mpaa_R  awards_BAFTA  \\\n",
            "0              0        0           1       0             0   \n",
            "1              0        0           0       1             0   \n",
            "2              0        0           0       1             0   \n",
            "3              0        0           0       1             0   \n",
            "4              0        0           0       1             0   \n",
            "\n",
            "   awards_Golden Globe  awards_Oscar  awards_no award  awards_other award  G  \\\n",
            "0                    0             0                0                   1  0   \n",
            "1                    0             0                1                   0  0   \n",
            "2                    0             0                0                   1  0   \n",
            "3                    0             1                0                   0  0   \n",
            "4                    0             0                0                   1  0   \n",
            "\n",
            "   NC-17  NotRated  PG  PG-13  R  BAFTA  Golden Globe  Oscar  no award  \\\n",
            "0      0         0   0      1  0      0             0      0         0   \n",
            "1      0         0   0      0  1      0             0      0         1   \n",
            "2      0         0   0      0  1      0             0      0         0   \n",
            "3      0         0   0      0  1      0             0      1         0   \n",
            "4      0         0   0      0  1      0             0      0         0   \n",
            "\n",
            "   other award  Action  Adventure  Animation  Comedy  Crime  Documentary  \\\n",
            "0            1       1          0          0       0      0            0   \n",
            "1            0       0          0          0       1      1            0   \n",
            "2            1       0          0          0       0      1            0   \n",
            "3            0       1          0          0       0      0            1   \n",
            "4            1       0          0          0       0      1            1   \n",
            "\n",
            "   Drama  Fantasy  Foreign/International  Horror  Independent  Kids & Family  \\\n",
            "0      1        0                      0       0            0              0   \n",
            "1      0        0                      0       0            0              0   \n",
            "2      1        0                      0       0            0              0   \n",
            "3      1        0                      0       0            0              0   \n",
            "4      0        0                      0       0            0              0   \n",
            "\n",
            "   Music  Musicals  Mystery  Romance  Sci-Fi  Sport  Thriller  War  Western  \\\n",
            "0      0         0        0        0       0      0         1    0        0   \n",
            "1      0         0        0        0       0      0         1    0        0   \n",
            "2      0         0        0        0       0      0         0    0        0   \n",
            "3      0         0        1        0       0      0         1    1        0   \n",
            "4      0         0        1        0       0      0         1    0        0   \n",
            "\n",
            "   Misc_genres  1916-1974  1974-1991  1991-2001  2001-2006  2006-2008  \\\n",
            "0            0          0          0          0          0          0   \n",
            "1            0          0          0          0          0          0   \n",
            "2            0          0          0          0          0          0   \n",
            "3            0          0          0          0          0          1   \n",
            "4            0          0          0          0          0          0   \n",
            "\n",
            "   2008-2010  2010-2012  2012-2013  2013-2014  2014-2017  \n",
            "0          0          0          1          0          0  \n",
            "1          0          0          1          0          0  \n",
            "2          0          1          0          0          0  \n",
            "3          0          0          0          0          0  \n",
            "4          0          0          1          0          0  \n"
          ],
          "name": "stdout"
        }
      ]
    },
    {
      "cell_type": "code",
      "metadata": {
        "id": "xo5lAjjwi8qM",
        "colab_type": "code",
        "outputId": "22d1c88b-6f68-43b9-9f49-98af8d8dc416",
        "colab": {
          "base_uri": "https://localhost:8080/",
          "height": 1000
        }
      },
      "source": [
        "# Check if there is any null values\n",
        "newTV.info()"
      ],
      "execution_count": 0,
      "outputs": [
        {
          "output_type": "stream",
          "text": [
            "<class 'pandas.core.frame.DataFrame'>\n",
            "RangeIndex: 4226 entries, 0 to 4225\n",
            "Data columns (total 69 columns):\n",
            " #   Column                         Non-Null Count  Dtype  \n",
            "---  ------                         --------------  -----  \n",
            " 0   video_id                       4226 non-null   int64  \n",
            " 1   cvt_per_day                    4226 non-null   float64\n",
            " 2   weighted_categorical_position  4226 non-null   int64  \n",
            " 3   weighted_horizontal_poition    4226 non-null   int64  \n",
            " 4   imdb_votes                     4226 non-null   int64  \n",
            " 5   budget                         4226 non-null   int64  \n",
            " 6   boxoffice                      4226 non-null   int64  \n",
            " 7   imdb_rating                    4226 non-null   float64\n",
            " 8   duration_in_mins               4226 non-null   float64\n",
            " 9   metacritic_score               4226 non-null   int64  \n",
            " 10  star_category                  4226 non-null   float64\n",
            " 11  import_id_lionsgate            4226 non-null   int64  \n",
            " 12  import_id_mgm                  4226 non-null   int64  \n",
            " 13  import_id_other                4226 non-null   int64  \n",
            " 14  import_id_paramount            4226 non-null   int64  \n",
            " 15  mpaa_G                         4226 non-null   int64  \n",
            " 16  mpaa_NC-17                     4226 non-null   int64  \n",
            " 17  mpaa_NotRated                  4226 non-null   int64  \n",
            " 18  mpaa_PG                        4226 non-null   int64  \n",
            " 19  mpaa_PG-13                     4226 non-null   int64  \n",
            " 20  mpaa_R                         4226 non-null   int64  \n",
            " 21  awards_BAFTA                   4226 non-null   int64  \n",
            " 22  awards_Golden Globe            4226 non-null   int64  \n",
            " 23  awards_Oscar                   4226 non-null   int64  \n",
            " 24  awards_no award                4226 non-null   int64  \n",
            " 25  awards_other award             4226 non-null   int64  \n",
            " 26  G                              4226 non-null   int64  \n",
            " 27  NC-17                          4226 non-null   int64  \n",
            " 28  NotRated                       4226 non-null   int64  \n",
            " 29  PG                             4226 non-null   int64  \n",
            " 30  PG-13                          4226 non-null   int64  \n",
            " 31  R                              4226 non-null   int64  \n",
            " 32  BAFTA                          4226 non-null   int64  \n",
            " 33  Golden Globe                   4226 non-null   int64  \n",
            " 34  Oscar                          4226 non-null   int64  \n",
            " 35  no award                       4226 non-null   int64  \n",
            " 36  other award                    4226 non-null   int64  \n",
            " 37  Action                         4226 non-null   int64  \n",
            " 38  Adventure                      4226 non-null   int64  \n",
            " 39  Animation                      4226 non-null   int64  \n",
            " 40  Comedy                         4226 non-null   int64  \n",
            " 41  Crime                          4226 non-null   int64  \n",
            " 42  Documentary                    4226 non-null   int64  \n",
            " 43  Drama                          4226 non-null   int64  \n",
            " 44  Fantasy                        4226 non-null   int64  \n",
            " 45  Foreign/International          4226 non-null   int64  \n",
            " 46  Horror                         4226 non-null   int64  \n",
            " 47  Independent                    4226 non-null   int64  \n",
            " 48  Kids & Family                  4226 non-null   int64  \n",
            " 49  Music                          4226 non-null   int64  \n",
            " 50  Musicals                       4226 non-null   int64  \n",
            " 51  Mystery                        4226 non-null   int64  \n",
            " 52  Romance                        4226 non-null   int64  \n",
            " 53  Sci-Fi                         4226 non-null   int64  \n",
            " 54  Sport                          4226 non-null   int64  \n",
            " 55  Thriller                       4226 non-null   int64  \n",
            " 56  War                            4226 non-null   int64  \n",
            " 57  Western                        4226 non-null   int64  \n",
            " 58  Misc_genres                    4226 non-null   int64  \n",
            " 59  1916-1974                      4226 non-null   int64  \n",
            " 60  1974-1991                      4226 non-null   int64  \n",
            " 61  1991-2001                      4226 non-null   int64  \n",
            " 62  2001-2006                      4226 non-null   int64  \n",
            " 63  2006-2008                      4226 non-null   int64  \n",
            " 64  2008-2010                      4226 non-null   int64  \n",
            " 65  2010-2012                      4226 non-null   int64  \n",
            " 66  2012-2013                      4226 non-null   int64  \n",
            " 67  2013-2014                      4226 non-null   int64  \n",
            " 68  2014-2017                      4226 non-null   int64  \n",
            "dtypes: float64(4), int64(65)\n",
            "memory usage: 2.2 MB\n"
          ],
          "name": "stdout"
        }
      ]
    },
    {
      "cell_type": "markdown",
      "metadata": {
        "id": "TALKhR1ajzT3",
        "colab_type": "text"
      },
      "source": [
        "### 3.2 Deal with Missing data"
      ]
    },
    {
      "cell_type": "markdown",
      "metadata": {
        "id": "Uw4U4MxpkB4x",
        "colab_type": "text"
      },
      "source": [
        "From previous exploration, among the 10 numerical features (not include video_id), 4 features have over 25% of missing values (shown as '0', which is not possible in reality): budget, boxoffice, metacritic_score, star_category. 2 features have less than 10% of missing data: imdb_votes, imdb_rating.\n",
        "\n",
        "There are 3242 samples have at least one missing data.\n",
        "\n",
        "Right Now we have to deal with the missing data. According to the data info, there is no Null value in our dataset.\n",
        "That's good, but we have to be catious, cause zero value can be a very good candidate for missing data. \n",
        "So we have the check the ratio of zero value in our numeric feature"
      ]
    },
    {
      "cell_type": "code",
      "metadata": {
        "id": "lybFPdBRmIJl",
        "colab_type": "code",
        "outputId": "80943f28-a446-46ae-d681-7dfd8ca72cc5",
        "colab": {
          "base_uri": "https://localhost:8080/",
          "height": 1000
        }
      },
      "source": [
        "# replace 0 value with Nan\n",
        "newTV[['budget','boxoffice','metacritic_score', 'star_category','imdb_votes', 'imdb_rating']] \\\n",
        "= newTV[['budget','boxoffice','metacritic_score', 'star_category','imdb_votes', 'imdb_rating']].replace(0, np.nan)\n",
        "# get new information\n",
        "print(newTV.info())"
      ],
      "execution_count": 0,
      "outputs": [
        {
          "output_type": "stream",
          "text": [
            "<class 'pandas.core.frame.DataFrame'>\n",
            "RangeIndex: 4226 entries, 0 to 4225\n",
            "Data columns (total 69 columns):\n",
            " #   Column                         Non-Null Count  Dtype  \n",
            "---  ------                         --------------  -----  \n",
            " 0   video_id                       4226 non-null   int64  \n",
            " 1   cvt_per_day                    4226 non-null   float64\n",
            " 2   weighted_categorical_position  4226 non-null   int64  \n",
            " 3   weighted_horizontal_poition    4226 non-null   int64  \n",
            " 4   imdb_votes                     3882 non-null   float64\n",
            " 5   budget                         1772 non-null   float64\n",
            " 6   boxoffice                      1032 non-null   float64\n",
            " 7   imdb_rating                    3882 non-null   float64\n",
            " 8   duration_in_mins               4226 non-null   float64\n",
            " 9   metacritic_score               1214 non-null   float64\n",
            " 10  star_category                  2380 non-null   float64\n",
            " 11  import_id_lionsgate            4226 non-null   int64  \n",
            " 12  import_id_mgm                  4226 non-null   int64  \n",
            " 13  import_id_other                4226 non-null   int64  \n",
            " 14  import_id_paramount            4226 non-null   int64  \n",
            " 15  mpaa_G                         4226 non-null   int64  \n",
            " 16  mpaa_NC-17                     4226 non-null   int64  \n",
            " 17  mpaa_NotRated                  4226 non-null   int64  \n",
            " 18  mpaa_PG                        4226 non-null   int64  \n",
            " 19  mpaa_PG-13                     4226 non-null   int64  \n",
            " 20  mpaa_R                         4226 non-null   int64  \n",
            " 21  awards_BAFTA                   4226 non-null   int64  \n",
            " 22  awards_Golden Globe            4226 non-null   int64  \n",
            " 23  awards_Oscar                   4226 non-null   int64  \n",
            " 24  awards_no award                4226 non-null   int64  \n",
            " 25  awards_other award             4226 non-null   int64  \n",
            " 26  G                              4226 non-null   int64  \n",
            " 27  NC-17                          4226 non-null   int64  \n",
            " 28  NotRated                       4226 non-null   int64  \n",
            " 29  PG                             4226 non-null   int64  \n",
            " 30  PG-13                          4226 non-null   int64  \n",
            " 31  R                              4226 non-null   int64  \n",
            " 32  BAFTA                          4226 non-null   int64  \n",
            " 33  Golden Globe                   4226 non-null   int64  \n",
            " 34  Oscar                          4226 non-null   int64  \n",
            " 35  no award                       4226 non-null   int64  \n",
            " 36  other award                    4226 non-null   int64  \n",
            " 37  Action                         4226 non-null   int64  \n",
            " 38  Adventure                      4226 non-null   int64  \n",
            " 39  Animation                      4226 non-null   int64  \n",
            " 40  Comedy                         4226 non-null   int64  \n",
            " 41  Crime                          4226 non-null   int64  \n",
            " 42  Documentary                    4226 non-null   int64  \n",
            " 43  Drama                          4226 non-null   int64  \n",
            " 44  Fantasy                        4226 non-null   int64  \n",
            " 45  Foreign/International          4226 non-null   int64  \n",
            " 46  Horror                         4226 non-null   int64  \n",
            " 47  Independent                    4226 non-null   int64  \n",
            " 48  Kids & Family                  4226 non-null   int64  \n",
            " 49  Music                          4226 non-null   int64  \n",
            " 50  Musicals                       4226 non-null   int64  \n",
            " 51  Mystery                        4226 non-null   int64  \n",
            " 52  Romance                        4226 non-null   int64  \n",
            " 53  Sci-Fi                         4226 non-null   int64  \n",
            " 54  Sport                          4226 non-null   int64  \n",
            " 55  Thriller                       4226 non-null   int64  \n",
            " 56  War                            4226 non-null   int64  \n",
            " 57  Western                        4226 non-null   int64  \n",
            " 58  Misc_genres                    4226 non-null   int64  \n",
            " 59  1916-1974                      4226 non-null   int64  \n",
            " 60  1974-1991                      4226 non-null   int64  \n",
            " 61  1991-2001                      4226 non-null   int64  \n",
            " 62  2001-2006                      4226 non-null   int64  \n",
            " 63  2006-2008                      4226 non-null   int64  \n",
            " 64  2008-2010                      4226 non-null   int64  \n",
            " 65  2010-2012                      4226 non-null   int64  \n",
            " 66  2012-2013                      4226 non-null   int64  \n",
            " 67  2013-2014                      4226 non-null   int64  \n",
            " 68  2014-2017                      4226 non-null   int64  \n",
            "dtypes: float64(8), int64(61)\n",
            "memory usage: 2.2 MB\n",
            "None\n"
          ],
          "name": "stdout"
        }
      ]
    },
    {
      "cell_type": "code",
      "metadata": {
        "id": "7-UWMM_xnA8A",
        "colab_type": "code",
        "outputId": "9132fc95-3e79-4f82-cb7e-dbecfea6ee94",
        "colab": {
          "base_uri": "https://localhost:8080/",
          "height": 1000
        }
      },
      "source": [
        "# see the % of null value in new dataset\n",
        "print(newTV.isnull().sum()/newTV.shape[0])"
      ],
      "execution_count": 0,
      "outputs": [
        {
          "output_type": "stream",
          "text": [
            "video_id                        0.000\n",
            "cvt_per_day                     0.000\n",
            "weighted_categorical_position   0.000\n",
            "weighted_horizontal_poition     0.000\n",
            "imdb_votes                      0.081\n",
            "budget                          0.581\n",
            "boxoffice                       0.756\n",
            "imdb_rating                     0.081\n",
            "duration_in_mins                0.000\n",
            "metacritic_score                0.713\n",
            "star_category                   0.437\n",
            "import_id_lionsgate             0.000\n",
            "import_id_mgm                   0.000\n",
            "import_id_other                 0.000\n",
            "import_id_paramount             0.000\n",
            "mpaa_G                          0.000\n",
            "mpaa_NC-17                      0.000\n",
            "mpaa_NotRated                   0.000\n",
            "mpaa_PG                         0.000\n",
            "mpaa_PG-13                      0.000\n",
            "mpaa_R                          0.000\n",
            "awards_BAFTA                    0.000\n",
            "awards_Golden Globe             0.000\n",
            "awards_Oscar                    0.000\n",
            "awards_no award                 0.000\n",
            "awards_other award              0.000\n",
            "G                               0.000\n",
            "NC-17                           0.000\n",
            "NotRated                        0.000\n",
            "PG                              0.000\n",
            "PG-13                           0.000\n",
            "R                               0.000\n",
            "BAFTA                           0.000\n",
            "Golden Globe                    0.000\n",
            "Oscar                           0.000\n",
            "no award                        0.000\n",
            "other award                     0.000\n",
            "Action                          0.000\n",
            "Adventure                       0.000\n",
            "Animation                       0.000\n",
            "Comedy                          0.000\n",
            "Crime                           0.000\n",
            "Documentary                     0.000\n",
            "Drama                           0.000\n",
            "Fantasy                         0.000\n",
            "Foreign/International           0.000\n",
            "Horror                          0.000\n",
            "Independent                     0.000\n",
            "Kids & Family                   0.000\n",
            "Music                           0.000\n",
            "Musicals                        0.000\n",
            "Mystery                         0.000\n",
            "Romance                         0.000\n",
            "Sci-Fi                          0.000\n",
            "Sport                           0.000\n",
            "Thriller                        0.000\n",
            "War                             0.000\n",
            "Western                         0.000\n",
            "Misc_genres                     0.000\n",
            "1916-1974                       0.000\n",
            "1974-1991                       0.000\n",
            "1991-2001                       0.000\n",
            "2001-2006                       0.000\n",
            "2006-2008                       0.000\n",
            "2008-2010                       0.000\n",
            "2010-2012                       0.000\n",
            "2012-2013                       0.000\n",
            "2013-2014                       0.000\n",
            "2014-2017                       0.000\n",
            "dtype: float64\n"
          ],
          "name": "stdout"
        }
      ]
    },
    {
      "cell_type": "code",
      "metadata": {
        "id": "WtD0MUR1n88W",
        "colab_type": "code",
        "outputId": "a9cc31cc-0f7a-4acb-adc9-ea4604cb1c22",
        "colab": {
          "base_uri": "https://localhost:8080/",
          "height": 1000
        }
      },
      "source": [
        "# I will replace the missing data with mean value so that it won't mislead the prediction.\n",
        "newTV1=newTV.copy()\n",
        "newTV1['boxoffice']=newTV1['boxoffice'].fillna(newTV1['boxoffice'].mean())\n",
        "newTV1['metacritic_score']=newTV1['metacritic_score'].fillna(newTV1['metacritic_score'].mean())\n",
        "newTV1['star_category']=newTV1['star_category'].fillna(newTV1['star_category'].mean())\n",
        "newTV1['imdb_votes']=newTV1['imdb_votes'].fillna(newTV1['imdb_votes'].mean())\n",
        "newTV1['imdb_rating']=newTV1['imdb_rating'].fillna(newTV1['imdb_rating'].mean())\n",
        "newTV1['budget']=newTV1['budget'].fillna(newTV1['budget'].mean())\n",
        "print(newTV1.info())"
      ],
      "execution_count": 0,
      "outputs": [
        {
          "output_type": "stream",
          "text": [
            "<class 'pandas.core.frame.DataFrame'>\n",
            "RangeIndex: 4226 entries, 0 to 4225\n",
            "Data columns (total 69 columns):\n",
            " #   Column                         Non-Null Count  Dtype  \n",
            "---  ------                         --------------  -----  \n",
            " 0   video_id                       4226 non-null   int64  \n",
            " 1   cvt_per_day                    4226 non-null   float64\n",
            " 2   weighted_categorical_position  4226 non-null   int64  \n",
            " 3   weighted_horizontal_poition    4226 non-null   int64  \n",
            " 4   imdb_votes                     4226 non-null   float64\n",
            " 5   budget                         4226 non-null   float64\n",
            " 6   boxoffice                      4226 non-null   float64\n",
            " 7   imdb_rating                    4226 non-null   float64\n",
            " 8   duration_in_mins               4226 non-null   float64\n",
            " 9   metacritic_score               4226 non-null   float64\n",
            " 10  star_category                  4226 non-null   float64\n",
            " 11  import_id_lionsgate            4226 non-null   int64  \n",
            " 12  import_id_mgm                  4226 non-null   int64  \n",
            " 13  import_id_other                4226 non-null   int64  \n",
            " 14  import_id_paramount            4226 non-null   int64  \n",
            " 15  mpaa_G                         4226 non-null   int64  \n",
            " 16  mpaa_NC-17                     4226 non-null   int64  \n",
            " 17  mpaa_NotRated                  4226 non-null   int64  \n",
            " 18  mpaa_PG                        4226 non-null   int64  \n",
            " 19  mpaa_PG-13                     4226 non-null   int64  \n",
            " 20  mpaa_R                         4226 non-null   int64  \n",
            " 21  awards_BAFTA                   4226 non-null   int64  \n",
            " 22  awards_Golden Globe            4226 non-null   int64  \n",
            " 23  awards_Oscar                   4226 non-null   int64  \n",
            " 24  awards_no award                4226 non-null   int64  \n",
            " 25  awards_other award             4226 non-null   int64  \n",
            " 26  G                              4226 non-null   int64  \n",
            " 27  NC-17                          4226 non-null   int64  \n",
            " 28  NotRated                       4226 non-null   int64  \n",
            " 29  PG                             4226 non-null   int64  \n",
            " 30  PG-13                          4226 non-null   int64  \n",
            " 31  R                              4226 non-null   int64  \n",
            " 32  BAFTA                          4226 non-null   int64  \n",
            " 33  Golden Globe                   4226 non-null   int64  \n",
            " 34  Oscar                          4226 non-null   int64  \n",
            " 35  no award                       4226 non-null   int64  \n",
            " 36  other award                    4226 non-null   int64  \n",
            " 37  Action                         4226 non-null   int64  \n",
            " 38  Adventure                      4226 non-null   int64  \n",
            " 39  Animation                      4226 non-null   int64  \n",
            " 40  Comedy                         4226 non-null   int64  \n",
            " 41  Crime                          4226 non-null   int64  \n",
            " 42  Documentary                    4226 non-null   int64  \n",
            " 43  Drama                          4226 non-null   int64  \n",
            " 44  Fantasy                        4226 non-null   int64  \n",
            " 45  Foreign/International          4226 non-null   int64  \n",
            " 46  Horror                         4226 non-null   int64  \n",
            " 47  Independent                    4226 non-null   int64  \n",
            " 48  Kids & Family                  4226 non-null   int64  \n",
            " 49  Music                          4226 non-null   int64  \n",
            " 50  Musicals                       4226 non-null   int64  \n",
            " 51  Mystery                        4226 non-null   int64  \n",
            " 52  Romance                        4226 non-null   int64  \n",
            " 53  Sci-Fi                         4226 non-null   int64  \n",
            " 54  Sport                          4226 non-null   int64  \n",
            " 55  Thriller                       4226 non-null   int64  \n",
            " 56  War                            4226 non-null   int64  \n",
            " 57  Western                        4226 non-null   int64  \n",
            " 58  Misc_genres                    4226 non-null   int64  \n",
            " 59  1916-1974                      4226 non-null   int64  \n",
            " 60  1974-1991                      4226 non-null   int64  \n",
            " 61  1991-2001                      4226 non-null   int64  \n",
            " 62  2001-2006                      4226 non-null   int64  \n",
            " 63  2006-2008                      4226 non-null   int64  \n",
            " 64  2008-2010                      4226 non-null   int64  \n",
            " 65  2010-2012                      4226 non-null   int64  \n",
            " 66  2012-2013                      4226 non-null   int64  \n",
            " 67  2013-2014                      4226 non-null   int64  \n",
            " 68  2014-2017                      4226 non-null   int64  \n",
            "dtypes: float64(8), int64(61)\n",
            "memory usage: 2.2 MB\n",
            "None\n"
          ],
          "name": "stdout"
        }
      ]
    },
    {
      "cell_type": "markdown",
      "metadata": {
        "id": "4q0IOHz3oieN",
        "colab_type": "text"
      },
      "source": [
        "### 3.3 Feature Scaling"
      ]
    },
    {
      "cell_type": "markdown",
      "metadata": {
        "id": "86C94yZ1ol6A",
        "colab_type": "text"
      },
      "source": [
        "There are two most common used scaling method: normalization and standardscaler. \n",
        "\n",
        "Since there are no specific requirement for the range of output, I choose to use standardscaler.\n",
        "\n",
        "The impact of different scaling methods on the model performance is small. In the following model training and selections, the standard scaling (sc) data is used."
      ]
    },
    {
      "cell_type": "code",
      "metadata": {
        "id": "ET7zNv_zr9p8",
        "colab_type": "code",
        "colab": {}
      },
      "source": [
        "#Standard scaling\n",
        "scale_lst = ['weighted_categorical_position', 'weighted_horizontal_poition', 'budget','boxoffice', \n",
        "             'imdb_votes','imdb_rating','duration_in_mins', 'metacritic_score','star_category']\n",
        "newTV_sc = newTV1.copy()\n",
        "\n",
        "sc_scale = StandardScaler().fit(newTV_sc[scale_lst])\n",
        "newTV_sc[scale_lst] = sc_scale.transform(newTV_sc[scale_lst])\n",
        "\n",
        "newTV_sc.head()"
      ],
      "execution_count": 0,
      "outputs": []
    },
    {
      "cell_type": "markdown",
      "metadata": {
        "id": "r6AyYXqVCb6p",
        "colab_type": "text"
      },
      "source": [
        "## STEP 4: Model Training"
      ]
    },
    {
      "cell_type": "code",
      "metadata": {
        "id": "lkmg-JFHCjsD",
        "colab_type": "code",
        "colab": {}
      },
      "source": [
        "# Split Train (85%) & Test(15%) data (newTV_sc)\n",
        "model_train, model_test = train_test_split(newTV_sc, test_size=0.15, random_state = 3)\n",
        "# drop 'video_id', 'cvt_per_day' for train_x data and set 'cvt_per_day' as dependent variable\n",
        "model_train_x = model_train.drop(['video_id', 'cvt_per_day'], axis = 1)\n",
        "model_train_y = model_train['cvt_per_day']\n",
        "# same to test data set\n",
        "model_test_x = model_test.drop(['video_id', 'cvt_per_day'], axis = 1)\n",
        "model_test_y = model_test['cvt_per_day']"
      ],
      "execution_count": 0,
      "outputs": []
    },
    {
      "cell_type": "markdown",
      "metadata": {
        "id": "3AUkhuvq6rxS",
        "colab_type": "text"
      },
      "source": [
        "In this project, since I will use regularization Regression model to prevent overfitting proble,, I will simply split the valiation dataset(15%) from the training dataset instead of doing cross-validation."
      ]
    },
    {
      "cell_type": "markdown",
      "metadata": {
        "id": "NkVY7YH8DFXx",
        "colab_type": "text"
      },
      "source": [
        "### 4.1 Lasso Linear Regression"
      ]
    },
    {
      "cell_type": "markdown",
      "metadata": {
        "id": "_HaGMMGQRPcq",
        "colab_type": "text"
      },
      "source": [
        "LASSO (Least absolute shrinkage and selection operator) is a regularization methods, which is also referred as L1 penalty in loss function.\n",
        "\n",
        "It minimizes the sum of the absolute value of the coefficients and has the effect of setting parameter weights to zero for the least influential varibles (a kind of feature selection)\n"
      ]
    },
    {
      "cell_type": "code",
      "metadata": {
        "id": "JURdGgyYDRpb",
        "colab_type": "code",
        "colab": {}
      },
      "source": [
        "from sklearn.model_selection import train_test_split\n",
        "from sklearn.linear_model import LinearRegression, Lasso, Ridge\n",
        "from sklearn.metrics import mean_squared_error, r2_score\n",
        "from math import sqrt\n",
        "\n",
        "# use train_test_split to split train & valiation dataset from the train data set\n",
        "lr_train, lr_validate = train_test_split(model_train, test_size=0.15, random_state = 0)\n",
        "# same operation as before\n",
        "lr_train_x = lr_train.drop(['video_id', 'cvt_per_day'], axis = 1)\n",
        "lr_validate_x = lr_validate.drop(['video_id', 'cvt_per_day'], axis = 1)\n",
        "lr_train_y = lr_train['cvt_per_day']\n",
        "lr_validate_y = lr_validate['cvt_per_day']"
      ],
      "execution_count": 0,
      "outputs": []
    },
    {
      "cell_type": "code",
      "metadata": {
        "id": "v7xZ-saPEVT_",
        "colab_type": "code",
        "colab": {}
      },
      "source": [
        "# Hyperparameter in Lasso, from 10^(-0.3) to 10^(2.5) steps in 150\n",
        "alphas = np.logspace (-0.3, 2.5, num=150)\n",
        "scores = np.empty_like(alphas)\n",
        "opt_a = float('-inf') # optimal alpha\n",
        "max_score = float('-inf') # best score with the optimal alpha\n",
        "# for loop to find the best alphas\n",
        "for i, a in enumerate(alphas):\n",
        "    lasso = Lasso()\n",
        "    lasso.set_params(alpha = a)\n",
        "    lasso.fit(lr_train_x, lr_train_y)\n",
        "    scores[i] = lasso.score(lr_validate_x, lr_validate_y)\n",
        "    if scores[i] > max_score:\n",
        "        max_score = scores[i]\n",
        "        opt_a = a\n",
        "        lasso_save = lasso"
      ],
      "execution_count": 0,
      "outputs": []
    },
    {
      "cell_type": "code",
      "metadata": {
        "id": "WAqGFmC5KUVD",
        "colab_type": "code",
        "outputId": "b1b9ac72-a72e-4826-fd09-baa36506d6c4",
        "colab": {
          "base_uri": "https://localhost:8080/",
          "height": 329
        }
      },
      "source": [
        "# visualization for alphas & scores\n",
        "plt.plot(alphas, scores, color='b', linestyle='dashed', marker='o',markerfacecolor='blue', markersize=6)\n",
        "plt.xlabel('alpha')\n",
        "plt.ylabel('score')\n",
        "plt.grid(True)\n",
        "plt.title('score vs. alpha')\n",
        "plt.show()\n",
        "# Print values\n",
        "print('Optimal Alpha:{}'.format(opt_a))\n",
        "print('Best Score:{}'.format(max_score))"
      ],
      "execution_count": 0,
      "outputs": [
        {
          "output_type": "display_data",
          "data": {
            "image/png": "[encoded data removed]",
            "text/plain": [
              "<Figure size 432x288 with 1 Axes>"
            ]
          },
          "metadata": {
            "tags": []
          }
        },
        {
          "output_type": "stream",
          "text": [
            "Optimal Alpha:122.06107238906554\n",
            "Best Score:0.364578538981179\n"
          ],
          "name": "stdout"
        }
      ]
    },
    {
      "cell_type": "markdown",
      "metadata": {
        "id": "HgahSDoYLBMY",
        "colab_type": "text"
      },
      "source": [
        "The score keeps increasing with Alpha value, and when it reaches the hightest point, (Optimal Alpha:122.06107238906554; Best Score:0.36457853302954246), the model performance starts to drop.\n"
      ]
    },
    {
      "cell_type": "code",
      "metadata": {
        "id": "q1_oeZD1LhQw",
        "colab_type": "code",
        "outputId": "62353703-0204-4bd6-9291-058e0ac54df0",
        "colab": {
          "base_uri": "https://localhost:8080/",
          "height": 68
        }
      },
      "source": [
        "# combine the validate data and training data, use the optimal alpha, re-train the model\n",
        "lasso_f = Lasso()\n",
        "lasso_f.set_params(alpha = opt_a)\n",
        "lasso_f.fit(model_train_x, model_train_y)"
      ],
      "execution_count": 0,
      "outputs": [
        {
          "output_type": "execute_result",
          "data": {
            "text/plain": [
              "Lasso(alpha=122.06107238906554, copy_X=True, fit_intercept=True, max_iter=1000,\n",
              "      normalize=False, positive=False, precompute=False, random_state=None,\n",
              "      selection='cyclic', tol=0.0001, warm_start=False)"
            ]
          },
          "metadata": {
            "tags": []
          },
          "execution_count": 222
        }
      ]
    },
    {
      "cell_type": "markdown",
      "metadata": {
        "id": "8nyc-8fFL_e_",
        "colab_type": "text"
      },
      "source": [
        "### 4.2 Lasso linear regression Polynomial-2"
      ]
    },
    {
      "cell_type": "markdown",
      "metadata": {
        "id": "A8wl-kNYQed3",
        "colab_type": "text"
      },
      "source": [
        "By using Polynomial Features in the Lasso regression, I would able to capture interactions between the original features by adding them as features to the linear model.\n",
        "\n",
        "Since by doing ploynomial geature expasion will bring the problem to higher degress and thus leads to complex models that overfit, I combined it with regularized mearning method (Lasso) to prevent the overfitting probelm."
      ]
    },
    {
      "cell_type": "code",
      "metadata": {
        "id": "u8afkGchM0gw",
        "colab_type": "code",
        "outputId": "d9c2d064-2129-4bea-a2d3-10d49a990cd0",
        "colab": {
          "base_uri": "https://localhost:8080/",
          "height": 1000
        }
      },
      "source": [
        "from sklearn.preprocessing import PolynomialFeatures\n",
        "\n",
        "lr_train, lr_validate = train_test_split(model_train, test_size=0.15, random_state = 0)\n",
        "\n",
        "lr_train_x = lr_train.drop(['video_id', 'cvt_per_day'], axis = 1)\n",
        "lr_validate_x = lr_validate.drop(['video_id', 'cvt_per_day'], axis = 1)\n",
        "lr_train_y = lr_train['cvt_per_day']\n",
        "lr_validate_y = lr_validate['cvt_per_day']\n",
        "\n",
        "'''Since we only have 4000+ data points, poly = 3 will creats too many features that model \n",
        "is unstable and can't be converge. Hence, I use poly = 2'''\n",
        "# Polynomial Feature - 2\n",
        "poly = PolynomialFeatures(2)\n",
        "# use poly to tranform the train & validation x data\n",
        "lr_train_xp = poly.fit_transform(lr_train_x)\n",
        "lr_validate_xp = poly.fit_transform(lr_validate_x)\n",
        "\n",
        "# For loop to find the best Alpha\n",
        "alphas = np.logspace (-2.6, 2.5, num=80)\n",
        "scores = np.empty_like(alphas)\n",
        "opt_a = float('-inf')\n",
        "max_score = float('-inf')\n",
        "for i, a in enumerate(alphas):\n",
        "    lasso = Lasso()\n",
        "    lasso.set_params(alpha = a)\n",
        "    lasso.fit(lr_train_xp, lr_train_y)\n",
        "    scores[i] = lasso.score(lr_validate_xp, lr_validate_y)\n",
        "    if scores[i] > max_score:\n",
        "        max_score = scores[i]\n",
        "        opt_a = a\n",
        "        lasso_save = lasso"
      ],
      "execution_count": 0,
      "outputs": [
        {
          "output_type": "stream",
          "text": [
            "/usr/local/lib/python3.6/dist-packages/sklearn/linear_model/_coordinate_descent.py:476: ConvergenceWarning: Objective did not converge. You might want to increase the number of iterations. Duality gap: 32959537796.93953, tolerance: 48022560.445868425\n",
            "  positive)\n",
            "/usr/local/lib/python3.6/dist-packages/sklearn/linear_model/_coordinate_descent.py:476: ConvergenceWarning: Objective did not converge. You might want to increase the number of iterations. Duality gap: 32965996773.112305, tolerance: 48022560.445868425\n",
            "  positive)\n",
            "/usr/local/lib/python3.6/dist-packages/sklearn/linear_model/_coordinate_descent.py:476: ConvergenceWarning: Objective did not converge. You might want to increase the number of iterations. Duality gap: 32973419655.90757, tolerance: 48022560.445868425\n",
            "  positive)\n",
            "/usr/local/lib/python3.6/dist-packages/sklearn/linear_model/_coordinate_descent.py:476: ConvergenceWarning: Objective did not converge. You might want to increase the number of iterations. Duality gap: 32981951532.54533, tolerance: 48022560.445868425\n",
            "  positive)\n",
            "/usr/local/lib/python3.6/dist-packages/sklearn/linear_model/_coordinate_descent.py:476: ConvergenceWarning: Objective did not converge. You might want to increase the number of iterations. Duality gap: 32991770588.582172, tolerance: 48022560.445868425\n",
            "  positive)\n",
            "/usr/local/lib/python3.6/dist-packages/sklearn/linear_model/_coordinate_descent.py:476: ConvergenceWarning: Objective did not converge. You might want to increase the number of iterations. Duality gap: 33003057537.899097, tolerance: 48022560.445868425\n",
            "  positive)\n",
            "/usr/local/lib/python3.6/dist-packages/sklearn/linear_model/_coordinate_descent.py:476: ConvergenceWarning: Objective did not converge. You might want to increase the number of iterations. Duality gap: 33015979576.55691, tolerance: 48022560.445868425\n",
            "  positive)\n",
            "/usr/local/lib/python3.6/dist-packages/sklearn/linear_model/_coordinate_descent.py:476: ConvergenceWarning: Objective did not converge. You might want to increase the number of iterations. Duality gap: 33030941521.620735, tolerance: 48022560.445868425\n",
            "  positive)\n",
            "/usr/local/lib/python3.6/dist-packages/sklearn/linear_model/_coordinate_descent.py:476: ConvergenceWarning: Objective did not converge. You might want to increase the number of iterations. Duality gap: 33048156981.002766, tolerance: 48022560.445868425\n",
            "  positive)\n",
            "/usr/local/lib/python3.6/dist-packages/sklearn/linear_model/_coordinate_descent.py:476: ConvergenceWarning: Objective did not converge. You might want to increase the number of iterations. Duality gap: 33067857415.721268, tolerance: 48022560.445868425\n",
            "  positive)\n",
            "/usr/local/lib/python3.6/dist-packages/sklearn/linear_model/_coordinate_descent.py:476: ConvergenceWarning: Objective did not converge. You might want to increase the number of iterations. Duality gap: 33090341528.13549, tolerance: 48022560.445868425\n",
            "  positive)\n",
            "/usr/local/lib/python3.6/dist-packages/sklearn/linear_model/_coordinate_descent.py:476: ConvergenceWarning: Objective did not converge. You might want to increase the number of iterations. Duality gap: 33115998784.4093, tolerance: 48022560.445868425\n",
            "  positive)\n",
            "/usr/local/lib/python3.6/dist-packages/sklearn/linear_model/_coordinate_descent.py:476: ConvergenceWarning: Objective did not converge. You might want to increase the number of iterations. Duality gap: 33145364469.680244, tolerance: 48022560.445868425\n",
            "  positive)\n",
            "/usr/local/lib/python3.6/dist-packages/sklearn/linear_model/_coordinate_descent.py:476: ConvergenceWarning: Objective did not converge. You might want to increase the number of iterations. Duality gap: 33179012598.88923, tolerance: 48022560.445868425\n",
            "  positive)\n",
            "/usr/local/lib/python3.6/dist-packages/sklearn/linear_model/_coordinate_descent.py:476: ConvergenceWarning: Objective did not converge. You might want to increase the number of iterations. Duality gap: 33217622292.1391, tolerance: 48022560.445868425\n",
            "  positive)\n",
            "/usr/local/lib/python3.6/dist-packages/sklearn/linear_model/_coordinate_descent.py:476: ConvergenceWarning: Objective did not converge. You might want to increase the number of iterations. Duality gap: 33261712936.910446, tolerance: 48022560.445868425\n",
            "  positive)\n",
            "/usr/local/lib/python3.6/dist-packages/sklearn/linear_model/_coordinate_descent.py:476: ConvergenceWarning: Objective did not converge. You might want to increase the number of iterations. Duality gap: 33312784236.028423, tolerance: 48022560.445868425\n",
            "  positive)\n",
            "/usr/local/lib/python3.6/dist-packages/sklearn/linear_model/_coordinate_descent.py:476: ConvergenceWarning: Objective did not converge. You might want to increase the number of iterations. Duality gap: 33371106682.97208, tolerance: 48022560.445868425\n",
            "  positive)\n",
            "/usr/local/lib/python3.6/dist-packages/sklearn/linear_model/_coordinate_descent.py:476: ConvergenceWarning: Objective did not converge. You might want to increase the number of iterations. Duality gap: 33438247911.959423, tolerance: 48022560.445868425\n",
            "  positive)\n",
            "/usr/local/lib/python3.6/dist-packages/sklearn/linear_model/_coordinate_descent.py:476: ConvergenceWarning: Objective did not converge. You might want to increase the number of iterations. Duality gap: 33515108419.79389, tolerance: 48022560.445868425\n",
            "  positive)\n",
            "/usr/local/lib/python3.6/dist-packages/sklearn/linear_model/_coordinate_descent.py:476: ConvergenceWarning: Objective did not converge. You might want to increase the number of iterations. Duality gap: 33602923078.037586, tolerance: 48022560.445868425\n",
            "  positive)\n",
            "/usr/local/lib/python3.6/dist-packages/sklearn/linear_model/_coordinate_descent.py:476: ConvergenceWarning: Objective did not converge. You might want to increase the number of iterations. Duality gap: 33702537440.198654, tolerance: 48022560.445868425\n",
            "  positive)\n",
            "/usr/local/lib/python3.6/dist-packages/sklearn/linear_model/_coordinate_descent.py:476: ConvergenceWarning: Objective did not converge. You might want to increase the number of iterations. Duality gap: 33815371538.288536, tolerance: 48022560.445868425\n",
            "  positive)\n",
            "/usr/local/lib/python3.6/dist-packages/sklearn/linear_model/_coordinate_descent.py:476: ConvergenceWarning: Objective did not converge. You might want to increase the number of iterations. Duality gap: 33943713547.788616, tolerance: 48022560.445868425\n",
            "  positive)\n",
            "/usr/local/lib/python3.6/dist-packages/sklearn/linear_model/_coordinate_descent.py:476: ConvergenceWarning: Objective did not converge. You might want to increase the number of iterations. Duality gap: 34089083379.045868, tolerance: 48022560.445868425\n",
            "  positive)\n",
            "/usr/local/lib/python3.6/dist-packages/sklearn/linear_model/_coordinate_descent.py:476: ConvergenceWarning: Objective did not converge. You might want to increase the number of iterations. Duality gap: 34253826817.01799, tolerance: 48022560.445868425\n",
            "  positive)\n",
            "/usr/local/lib/python3.6/dist-packages/sklearn/linear_model/_coordinate_descent.py:476: ConvergenceWarning: Objective did not converge. You might want to increase the number of iterations. Duality gap: 34439503910.113304, tolerance: 48022560.445868425\n",
            "  positive)\n",
            "/usr/local/lib/python3.6/dist-packages/sklearn/linear_model/_coordinate_descent.py:476: ConvergenceWarning: Objective did not converge. You might want to increase the number of iterations. Duality gap: 34650182308.51306, tolerance: 48022560.445868425\n",
            "  positive)\n",
            "/usr/local/lib/python3.6/dist-packages/sklearn/linear_model/_coordinate_descent.py:476: ConvergenceWarning: Objective did not converge. You might want to increase the number of iterations. Duality gap: 34884008355.503296, tolerance: 48022560.445868425\n",
            "  positive)\n",
            "/usr/local/lib/python3.6/dist-packages/sklearn/linear_model/_coordinate_descent.py:476: ConvergenceWarning: Objective did not converge. You might want to increase the number of iterations. Duality gap: 35147570057.686104, tolerance: 48022560.445868425\n",
            "  positive)\n",
            "/usr/local/lib/python3.6/dist-packages/sklearn/linear_model/_coordinate_descent.py:476: ConvergenceWarning: Objective did not converge. You might want to increase the number of iterations. Duality gap: 35441897858.69207, tolerance: 48022560.445868425\n",
            "  positive)\n",
            "/usr/local/lib/python3.6/dist-packages/sklearn/linear_model/_coordinate_descent.py:476: ConvergenceWarning: Objective did not converge. You might want to increase the number of iterations. Duality gap: 35767396995.19062, tolerance: 48022560.445868425\n",
            "  positive)\n",
            "/usr/local/lib/python3.6/dist-packages/sklearn/linear_model/_coordinate_descent.py:476: ConvergenceWarning: Objective did not converge. You might want to increase the number of iterations. Duality gap: 36122122197.43156, tolerance: 48022560.445868425\n",
            "  positive)\n",
            "/usr/local/lib/python3.6/dist-packages/sklearn/linear_model/_coordinate_descent.py:476: ConvergenceWarning: Objective did not converge. You might want to increase the number of iterations. Duality gap: 36530009534.22016, tolerance: 48022560.445868425\n",
            "  positive)\n",
            "/usr/local/lib/python3.6/dist-packages/sklearn/linear_model/_coordinate_descent.py:476: ConvergenceWarning: Objective did not converge. You might want to increase the number of iterations. Duality gap: 36960685573.34239, tolerance: 48022560.445868425\n",
            "  positive)\n",
            "/usr/local/lib/python3.6/dist-packages/sklearn/linear_model/_coordinate_descent.py:476: ConvergenceWarning: Objective did not converge. You might want to increase the number of iterations. Duality gap: 37424473016.50811, tolerance: 48022560.445868425\n",
            "  positive)\n",
            "/usr/local/lib/python3.6/dist-packages/sklearn/linear_model/_coordinate_descent.py:476: ConvergenceWarning: Objective did not converge. You might want to increase the number of iterations. Duality gap: 37914706178.3406, tolerance: 48022560.445868425\n",
            "  positive)\n",
            "/usr/local/lib/python3.6/dist-packages/sklearn/linear_model/_coordinate_descent.py:476: ConvergenceWarning: Objective did not converge. You might want to increase the number of iterations. Duality gap: 38397238945.59197, tolerance: 48022560.445868425\n",
            "  positive)\n",
            "/usr/local/lib/python3.6/dist-packages/sklearn/linear_model/_coordinate_descent.py:476: ConvergenceWarning: Objective did not converge. You might want to increase the number of iterations. Duality gap: 38814192184.04336, tolerance: 48022560.445868425\n",
            "  positive)\n",
            "/usr/local/lib/python3.6/dist-packages/sklearn/linear_model/_coordinate_descent.py:476: ConvergenceWarning: Objective did not converge. You might want to increase the number of iterations. Duality gap: 39005540963.11377, tolerance: 48022560.445868425\n",
            "  positive)\n",
            "/usr/local/lib/python3.6/dist-packages/sklearn/linear_model/_coordinate_descent.py:476: ConvergenceWarning: Objective did not converge. You might want to increase the number of iterations. Duality gap: 39188252843.39288, tolerance: 48022560.445868425\n",
            "  positive)\n",
            "/usr/local/lib/python3.6/dist-packages/sklearn/linear_model/_coordinate_descent.py:476: ConvergenceWarning: Objective did not converge. You might want to increase the number of iterations. Duality gap: 40458745590.50759, tolerance: 48022560.445868425\n",
            "  positive)\n",
            "/usr/local/lib/python3.6/dist-packages/sklearn/linear_model/_coordinate_descent.py:476: ConvergenceWarning: Objective did not converge. You might want to increase the number of iterations. Duality gap: 41089582201.09043, tolerance: 48022560.445868425\n",
            "  positive)\n",
            "/usr/local/lib/python3.6/dist-packages/sklearn/linear_model/_coordinate_descent.py:476: ConvergenceWarning: Objective did not converge. You might want to increase the number of iterations. Duality gap: 41635683637.127754, tolerance: 48022560.445868425\n",
            "  positive)\n",
            "/usr/local/lib/python3.6/dist-packages/sklearn/linear_model/_coordinate_descent.py:476: ConvergenceWarning: Objective did not converge. You might want to increase the number of iterations. Duality gap: 42158485993.529465, tolerance: 48022560.445868425\n",
            "  positive)\n",
            "/usr/local/lib/python3.6/dist-packages/sklearn/linear_model/_coordinate_descent.py:476: ConvergenceWarning: Objective did not converge. You might want to increase the number of iterations. Duality gap: 42815469909.05366, tolerance: 48022560.445868425\n",
            "  positive)\n",
            "/usr/local/lib/python3.6/dist-packages/sklearn/linear_model/_coordinate_descent.py:476: ConvergenceWarning: Objective did not converge. You might want to increase the number of iterations. Duality gap: 43741766895.11527, tolerance: 48022560.445868425\n",
            "  positive)\n",
            "/usr/local/lib/python3.6/dist-packages/sklearn/linear_model/_coordinate_descent.py:476: ConvergenceWarning: Objective did not converge. You might want to increase the number of iterations. Duality gap: 44436785486.003975, tolerance: 48022560.445868425\n",
            "  positive)\n",
            "/usr/local/lib/python3.6/dist-packages/sklearn/linear_model/_coordinate_descent.py:476: ConvergenceWarning: Objective did not converge. You might want to increase the number of iterations. Duality gap: 43302313394.586296, tolerance: 48022560.445868425\n",
            "  positive)\n",
            "/usr/local/lib/python3.6/dist-packages/sklearn/linear_model/_coordinate_descent.py:476: ConvergenceWarning: Objective did not converge. You might want to increase the number of iterations. Duality gap: 47646337802.294556, tolerance: 48022560.445868425\n",
            "  positive)\n",
            "/usr/local/lib/python3.6/dist-packages/sklearn/linear_model/_coordinate_descent.py:476: ConvergenceWarning: Objective did not converge. You might want to increase the number of iterations. Duality gap: 49330743299.19515, tolerance: 48022560.445868425\n",
            "  positive)\n",
            "/usr/local/lib/python3.6/dist-packages/sklearn/linear_model/_coordinate_descent.py:476: ConvergenceWarning: Objective did not converge. You might want to increase the number of iterations. Duality gap: 48752271786.54064, tolerance: 48022560.445868425\n",
            "  positive)\n",
            "/usr/local/lib/python3.6/dist-packages/sklearn/linear_model/_coordinate_descent.py:476: ConvergenceWarning: Objective did not converge. You might want to increase the number of iterations. Duality gap: 47103883457.79144, tolerance: 48022560.445868425\n",
            "  positive)\n",
            "/usr/local/lib/python3.6/dist-packages/sklearn/linear_model/_coordinate_descent.py:476: ConvergenceWarning: Objective did not converge. You might want to increase the number of iterations. Duality gap: 39982038701.1379, tolerance: 48022560.445868425\n",
            "  positive)\n",
            "/usr/local/lib/python3.6/dist-packages/sklearn/linear_model/_coordinate_descent.py:476: ConvergenceWarning: Objective did not converge. You might want to increase the number of iterations. Duality gap: 28343085751.07293, tolerance: 48022560.445868425\n",
            "  positive)\n",
            "/usr/local/lib/python3.6/dist-packages/sklearn/linear_model/_coordinate_descent.py:476: ConvergenceWarning: Objective did not converge. You might want to increase the number of iterations. Duality gap: 19168980566.588905, tolerance: 48022560.445868425\n",
            "  positive)\n",
            "/usr/local/lib/python3.6/dist-packages/sklearn/linear_model/_coordinate_descent.py:476: ConvergenceWarning: Objective did not converge. You might want to increase the number of iterations. Duality gap: 9114570979.937141, tolerance: 48022560.445868425\n",
            "  positive)\n",
            "/usr/local/lib/python3.6/dist-packages/sklearn/linear_model/_coordinate_descent.py:476: ConvergenceWarning: Objective did not converge. You might want to increase the number of iterations. Duality gap: 1274145134.6675873, tolerance: 48022560.445868425\n",
            "  positive)\n",
            "/usr/local/lib/python3.6/dist-packages/sklearn/linear_model/_coordinate_descent.py:476: ConvergenceWarning: Objective did not converge. You might want to increase the number of iterations. Duality gap: 1943282041.5326996, tolerance: 48022560.445868425\n",
            "  positive)\n",
            "/usr/local/lib/python3.6/dist-packages/sklearn/linear_model/_coordinate_descent.py:476: ConvergenceWarning: Objective did not converge. You might want to increase the number of iterations. Duality gap: 764619996.8082123, tolerance: 48022560.445868425\n",
            "  positive)\n",
            "/usr/local/lib/python3.6/dist-packages/sklearn/linear_model/_coordinate_descent.py:476: ConvergenceWarning: Objective did not converge. You might want to increase the number of iterations. Duality gap: 472399761.0012512, tolerance: 48022560.445868425\n",
            "  positive)\n",
            "/usr/local/lib/python3.6/dist-packages/sklearn/linear_model/_coordinate_descent.py:476: ConvergenceWarning: Objective did not converge. You might want to increase the number of iterations. Duality gap: 327983383.75320435, tolerance: 48022560.445868425\n",
            "  positive)\n",
            "/usr/local/lib/python3.6/dist-packages/sklearn/linear_model/_coordinate_descent.py:476: ConvergenceWarning: Objective did not converge. You might want to increase the number of iterations. Duality gap: 204155288.30387878, tolerance: 48022560.445868425\n",
            "  positive)\n"
          ],
          "name": "stderr"
        }
      ]
    },
    {
      "cell_type": "code",
      "metadata": {
        "id": "5-a3t40uSpOv",
        "colab_type": "code",
        "outputId": "099fa753-8885-4120-b654-374a788fd262",
        "colab": {
          "base_uri": "https://localhost:8080/",
          "height": 329
        }
      },
      "source": [
        "# Visulization     \n",
        "plt.plot(alphas, scores, color='b', linestyle='dashed', marker='o',markerfacecolor='blue', markersize=6)\n",
        "plt.xlabel('alpha')\n",
        "plt.ylabel('score')\n",
        "plt.grid(True)\n",
        "plt.title('score vs. alpha')\n",
        "plt.show()\n",
        "# Print values\n",
        "print('Optimal Alpha:{}'.format(opt_a))\n",
        "print('Best Score:{}'.format(max_score))"
      ],
      "execution_count": 0,
      "outputs": [
        {
          "output_type": "display_data",
          "data": {
            "image/png": "[encoded data removed]",
            "text/plain": [
              "<Figure size 432x288 with 1 Axes>"
            ]
          },
          "metadata": {
            "tags": []
          }
        },
        {
          "output_type": "stream",
          "text": [
            "Optimal Alpha:150.38869469554086\n",
            "Best Score:0.5764945718460759\n"
          ],
          "name": "stdout"
        }
      ]
    },
    {
      "cell_type": "markdown",
      "metadata": {
        "id": "j_rFGvoOSQW1",
        "colab_type": "text"
      },
      "source": [
        "When appling polynomial function, I saw much bettern performance that the score increases from 0.36 to 0.58. "
      ]
    },
    {
      "cell_type": "code",
      "metadata": {
        "id": "XhcMlz1tUTx7",
        "colab_type": "code",
        "outputId": "bdbd1a01-022c-4930-99c5-b7a6c5314c5c",
        "colab": {
          "base_uri": "https://localhost:8080/",
          "height": 68
        }
      },
      "source": [
        "# combine the validate data and training data, use the optimal alpha, re-train the model\n",
        "# transform train data with poly=2\n",
        "lr_train_xp1 = poly.fit_transform(model_train_x)\n",
        "# lasso_fp is the Lasso model (polynomial feature), to be tested with test data.\n",
        "lasso_fp = Lasso()\n",
        "lasso_fp.set_params(alpha = opt_a)\n",
        "lasso_fp.fit(lr_train_xp1, model_train_y)"
      ],
      "execution_count": 0,
      "outputs": [
        {
          "output_type": "execute_result",
          "data": {
            "text/plain": [
              "Lasso(alpha=150.38869469554086, copy_X=True, fit_intercept=True, max_iter=1000,\n",
              "      normalize=False, positive=False, precompute=False, random_state=None,\n",
              "      selection='cyclic', tol=0.0001, warm_start=False)"
            ]
          },
          "metadata": {
            "tags": []
          },
          "execution_count": 225
        }
      ]
    },
    {
      "cell_type": "markdown",
      "metadata": {
        "id": "TY8KLa0oTFQ7",
        "colab_type": "text"
      },
      "source": [
        "### 4.3 Ridge linear regression"
      ]
    },
    {
      "cell_type": "markdown",
      "metadata": {
        "id": "LuX9pijBWJXh",
        "colab_type": "text"
      },
      "source": [
        "Another way of reularization is using Ridge Regression, which minimizes sum of quares of the w coefficient. It is also controoled by hyperparameter, Alpha. The higher Aplha means more regularization and impler model."
      ]
    },
    {
      "cell_type": "code",
      "metadata": {
        "id": "pqmqHqxPWtg5",
        "colab_type": "code",
        "colab": {}
      },
      "source": [
        "lr_train, lr_validate = train_test_split(model_train, test_size=0.15, random_state = 0)\n",
        "\n",
        "lr_train_x = lr_train.drop(['video_id', 'cvt_per_day'], axis = 1)\n",
        "lr_validate_x = lr_validate.drop(['video_id', 'cvt_per_day'], axis = 1)\n",
        "lr_train_y = lr_train['cvt_per_day']\n",
        "lr_validate_y = lr_validate['cvt_per_day']\n",
        "\n",
        "alphas = np.logspace (-10, 3, num=150)\n",
        "scores = np.empty_like(alphas)\n",
        "opt_a = float('-inf') # optimal alpha\n",
        "max_score = float('-inf') # best score with the optimal alpha\n",
        "# for loop to find the best alphas\n",
        "for i, a in enumerate(alphas):\n",
        "    ridge = Ridge()\n",
        "    ridge.set_params(alpha = a)\n",
        "    ridge.fit(lr_train_x, lr_train_y)\n",
        "    scores[i] = ridge.score(lr_validate_x, lr_validate_y)\n",
        "    if scores[i] > max_score:\n",
        "        max_score = scores[i]\n",
        "        opt_a = a\n",
        "        ridge_save = ridge"
      ],
      "execution_count": 0,
      "outputs": []
    },
    {
      "cell_type": "code",
      "metadata": {
        "id": "dMyJtBzZXKQJ",
        "colab_type": "code",
        "outputId": "793cf8a8-a000-4e8e-8716-a2b142792a3a",
        "colab": {
          "base_uri": "https://localhost:8080/",
          "height": 329
        }
      },
      "source": [
        "# Visualization\n",
        "plt.plot(alphas, scores, color='r', linestyle='dashed', marker='o',markerfacecolor='r', markersize=6)\n",
        "plt.xlabel('alpha')\n",
        "plt.ylabel('score')\n",
        "plt.grid(True)\n",
        "plt.title('score vs. alpha')\n",
        "plt.show()\n",
        "print ('The optimaized alpha and score of Ridge linear is: '), opt_a, max_score"
      ],
      "execution_count": 0,
      "outputs": [
        {
          "output_type": "display_data",
          "data": {
            "image/png": "[encoded data removed]",
            "text/plain": [
              "<Figure size 432x288 with 1 Axes>"
            ]
          },
          "metadata": {
            "tags": []
          }
        },
        {
          "output_type": "stream",
          "text": [
            "The optimaized alpha and score of Ridge linear is: \n"
          ],
          "name": "stdout"
        },
        {
          "output_type": "execute_result",
          "data": {
            "text/plain": [
              "(None, 163.97026580002054, 0.351988974795137)"
            ]
          },
          "metadata": {
            "tags": []
          },
          "execution_count": 227
        }
      ]
    },
    {
      "cell_type": "code",
      "metadata": {
        "id": "REN_QmrDXnLk",
        "colab_type": "code",
        "outputId": "913df6cb-9d34-4fa6-b10a-f9cb9dc11c25",
        "colab": {
          "base_uri": "https://localhost:8080/",
          "height": 51
        }
      },
      "source": [
        "# add the 15% validate data, use the optimal alpha, re-train the model\n",
        "# ridge_f is the Ridge model (linear feature), to be tested with test data.\n",
        "ridge_f = Ridge()\n",
        "ridge_f.set_params(alpha = opt_a)\n",
        "ridge_f.fit(model_train_x, model_train_y)"
      ],
      "execution_count": 0,
      "outputs": [
        {
          "output_type": "execute_result",
          "data": {
            "text/plain": [
              "Ridge(alpha=163.97026580002054, copy_X=True, fit_intercept=True, max_iter=None,\n",
              "      normalize=False, random_state=None, solver='auto', tol=0.001)"
            ]
          },
          "metadata": {
            "tags": []
          },
          "execution_count": 228
        }
      ]
    },
    {
      "cell_type": "markdown",
      "metadata": {
        "id": "Wj9J6T-QXzTC",
        "colab_type": "text"
      },
      "source": [
        "### 4.4 Ridge linear regression Polynomial-2"
      ]
    },
    {
      "cell_type": "code",
      "metadata": {
        "id": "Q8NXeG00X9Qq",
        "colab_type": "code",
        "colab": {}
      },
      "source": [
        "lr_train, lr_validate = train_test_split(model_train, test_size=0.15, random_state = 0)\n",
        "\n",
        "lr_train_x = lr_train.drop(['video_id', 'cvt_per_day'], axis = 1)\n",
        "lr_validate_x = lr_validate.drop(['video_id', 'cvt_per_day'], axis = 1)\n",
        "lr_train_y = lr_train['cvt_per_day']\n",
        "lr_validate_y = lr_validate['cvt_per_day']\n",
        "\n",
        "# Polynomial Feature - 2\n",
        "poly = PolynomialFeatures(2)\n",
        "# use poly to tranform the train & validation x data\n",
        "lr_train_xp = poly.fit_transform(lr_train_x)\n",
        "lr_validate_xp = poly.fit_transform(lr_validate_x)\n",
        "\n",
        "# For loop to find the best Alpha\n",
        "alphas = np.logspace (-2, 2, num=20)\n",
        "scores = np.empty_like(alphas)\n",
        "opt_a = float('-inf')\n",
        "max_score = float('-inf')\n",
        "for i, a in enumerate(alphas):\n",
        "    ridge = Ridge()\n",
        "    ridge.set_params(alpha = a)\n",
        "    ridge.fit(lr_train_xp, lr_train_y)\n",
        "    scores[i] = ridge.score(lr_validate_xp, lr_validate_y)\n",
        "    if scores[i] > max_score:\n",
        "        max_score = scores[i]\n",
        "        opt_a = a\n",
        "        ridge_save = ridge"
      ],
      "execution_count": 0,
      "outputs": []
    },
    {
      "cell_type": "code",
      "metadata": {
        "id": "54sxlUWBYTaO",
        "colab_type": "code",
        "outputId": "1eb987ef-60a2-48bf-b4c4-6484c6d3e0bd",
        "colab": {
          "base_uri": "https://localhost:8080/",
          "height": 329
        }
      },
      "source": [
        "# Visualization\n",
        "plt.plot(alphas, scores, color='r', linestyle='dashed', marker='o',markerfacecolor='r', markersize=6)\n",
        "plt.xlabel('alpha')\n",
        "plt.ylabel('score')\n",
        "plt.grid(True)\n",
        "plt.title('score vs. alpha')\n",
        "plt.show()\n",
        "print ('The optimaized alpha and score of Ridge linear is: '), opt_a, max_score"
      ],
      "execution_count": 0,
      "outputs": [
        {
          "output_type": "display_data",
          "data": {
            "image/png": "[encoded data removed]",
            "text/plain": [
              "<Figure size 432x288 with 1 Axes>"
            ]
          },
          "metadata": {
            "tags": []
          }
        },
        {
          "output_type": "stream",
          "text": [
            "The optimaized alpha and score of Ridge linear is: \n"
          ],
          "name": "stdout"
        },
        {
          "output_type": "execute_result",
          "data": {
            "text/plain": [
              "(None, 14.38449888287663, 0.4606091767576517)"
            ]
          },
          "metadata": {
            "tags": []
          },
          "execution_count": 230
        }
      ]
    },
    {
      "cell_type": "markdown",
      "metadata": {
        "id": "GfkTg-bSZ98I",
        "colab_type": "text"
      },
      "source": [
        "Similar result with the Lasso Regression, the model performace with poly=2 is better."
      ]
    },
    {
      "cell_type": "code",
      "metadata": {
        "id": "PY4KPQMmZwhY",
        "colab_type": "code",
        "outputId": "3c9abf66-6168-45b6-c96b-f080762b33cf",
        "colab": {
          "base_uri": "https://localhost:8080/",
          "height": 51
        }
      },
      "source": [
        "# combine the validate data and training data, use the optimal alpha, re-train the model\n",
        "# transform train data with poly=2\n",
        "lr_train_xp1 = poly.fit_transform(model_train_x)\n",
        "# lasso_fp is the Lasso model (polynomial feature), to be tested with test data.\n",
        "ridge_fp = Ridge()\n",
        "ridge_fp.set_params(alpha = opt_a)\n",
        "ridge_fp.fit(lr_train_xp1, model_train_y)"
      ],
      "execution_count": 0,
      "outputs": [
        {
          "output_type": "execute_result",
          "data": {
            "text/plain": [
              "Ridge(alpha=14.38449888287663, copy_X=True, fit_intercept=True, max_iter=None,\n",
              "      normalize=False, random_state=None, solver='auto', tol=0.001)"
            ]
          },
          "metadata": {
            "tags": []
          },
          "execution_count": 231
        }
      ]
    },
    {
      "cell_type": "markdown",
      "metadata": {
        "id": "ard-5l6WRodV",
        "colab_type": "text"
      },
      "source": [
        "From general understanding, the choice between Lasso and Ridge depends on the dataset:\n",
        "  - Many small/medium sized effects --> use Ridge (decrease impact on features has similar effects)\n",
        "  - Only a few variables with medium/large effects --> use Lasso (decrease dimension & feature selection).\n",
        "\n",
        "In this case, the Lasso regression with poly=2 has the best score = 0.576. This is not suprising because we have only 4000+ datapoints and less than 100 features.\n",
        "\n",
        "However, I don't feel its good enought. Hence, I will run one additional model, Random forest, which is a powerful one, to see its performace and do a model evaluation to see which models' performance is the best and use it to do prediction."
      ]
    },
    {
      "cell_type": "markdown",
      "metadata": {
        "id": "i76ijazsbD7w",
        "colab_type": "text"
      },
      "source": [
        "### 4.5 Random Forest"
      ]
    },
    {
      "cell_type": "code",
      "metadata": {
        "id": "sSyyzz4wbWm9",
        "colab_type": "code",
        "outputId": "7b33a18a-67ce-47f8-d238-020e9fcf991b",
        "colab": {
          "base_uri": "https://localhost:8080/",
          "height": 357
        }
      },
      "source": [
        "from sklearn.ensemble import RandomForestRegressor\n",
        "from sklearn.model_selection import GridSearchCV\n",
        "\n",
        "rf=RandomForestRegressor(random_state=2,max_features='sqrt',n_jobs=-1)\n",
        "param_grid={'n_estimators':[55,56,57,58,59,60,61,62,63,64,65],'max_depth':[15,16,17,18,19,20,21]}\n",
        "clf=GridSearchCV(estimator=rf,param_grid=param_grid,cv=5,n_jobs=-1)\n",
        "clf.fit(model_train_x, model_train_y)"
      ],
      "execution_count": 0,
      "outputs": [
        {
          "output_type": "execute_result",
          "data": {
            "text/plain": [
              "GridSearchCV(cv=5, error_score=nan,\n",
              "             estimator=RandomForestRegressor(bootstrap=True, ccp_alpha=0.0,\n",
              "                                             criterion='mse', max_depth=None,\n",
              "                                             max_features='sqrt',\n",
              "                                             max_leaf_nodes=None,\n",
              "                                             max_samples=None,\n",
              "                                             min_impurity_decrease=0.0,\n",
              "                                             min_impurity_split=None,\n",
              "                                             min_samples_leaf=1,\n",
              "                                             min_samples_split=2,\n",
              "                                             min_weight_fraction_leaf=0.0,\n",
              "                                             n_estimators=100, n_jobs=-1,\n",
              "                                             oob_score=False, random_state=2,\n",
              "                                             verbose=0, warm_start=False),\n",
              "             iid='deprecated', n_jobs=-1,\n",
              "             param_grid={'max_depth': [15, 16, 17, 18, 19, 20, 21],\n",
              "                         'n_estimators': [55, 56, 57, 58, 59, 60, 61, 62, 63,\n",
              "                                          64, 65]},\n",
              "             pre_dispatch='2*n_jobs', refit=True, return_train_score=False,\n",
              "             scoring=None, verbose=0)"
            ]
          },
          "metadata": {
            "tags": []
          },
          "execution_count": 232
        }
      ]
    },
    {
      "cell_type": "code",
      "metadata": {
        "id": "_20hDXxaenne",
        "colab_type": "code",
        "colab": {}
      },
      "source": [
        "#result=clf.cv_results_\n",
        "#print(result)"
      ],
      "execution_count": 0,
      "outputs": []
    },
    {
      "cell_type": "code",
      "metadata": {
        "id": "sHhy7k5Se5jo",
        "colab_type": "code",
        "outputId": "b70098b8-42b5-480d-d3dd-0e7f602acf2f",
        "colab": {
          "base_uri": "https://localhost:8080/",
          "height": 314
        }
      },
      "source": [
        "max_depth=[15,16,17,18,19,20,21]\n",
        "n_estimators=[55,56,57,58,59,60,61,62,63,64,65]\n",
        "scores=clf.cv_results_['mean_test_score'].reshape(len(max_depth),len(n_estimators))\n",
        "\n",
        "for i,j in enumerate(max_depth):\n",
        "  plt.plot(n_estimators,scores[i],'-o',label='max_depths is: '+str(j))\n",
        "plt.legend(bbox_to_anchor=(1.05, 1), loc='upper left')\n",
        "plt.xlabel('mean_test_score')\n",
        "plt.ylabel('n_estimators')\n",
        "plt.show()\n",
        "print('the best parameter for max_depth is: '+str(clf.best_params_['max_depth']))\n",
        "print('the best parameter for n_estimators is: '+str(clf.best_params_['n_estimators']))"
      ],
      "execution_count": 0,
      "outputs": [
        {
          "output_type": "display_data",
          "data": {
            "image/png": "[encoded data removed]",
            "text/plain": [
              "<Figure size 432x288 with 1 Axes>"
            ]
          },
          "metadata": {
            "tags": []
          }
        },
        {
          "output_type": "stream",
          "text": [
            "the best parameter for max_depth is: 16\n",
            "the best parameter for n_estimators is: 55\n"
          ],
          "name": "stdout"
        }
      ]
    },
    {
      "cell_type": "markdown",
      "metadata": {
        "id": "c6VlUrtJ3aYh",
        "colab_type": "text"
      },
      "source": [
        "## STEP 5: Model Evaluation"
      ]
    },
    {
      "cell_type": "markdown",
      "metadata": {
        "id": "uxty7iwm3i-1",
        "colab_type": "text"
      },
      "source": [
        "### 5.1 Evaluate all Models"
      ]
    },
    {
      "cell_type": "code",
      "metadata": {
        "id": "eZWvYSjE3gXJ",
        "colab_type": "code",
        "outputId": "cfc6c8c9-d94c-454c-9632-a18b24fbdf27",
        "colab": {
          "base_uri": "https://localhost:8080/",
          "height": 68
        }
      },
      "source": [
        "#For lasso_f, the optimal alpha is 122.06107238906554\n",
        "\n",
        "from sklearn.metrics import  mean_squared_error\n",
        "\n",
        "# predict with test dataset\n",
        "pred_y=lasso_f.predict(model_test_x)\n",
        "lasso_score=lasso_f.score(model_test_x,model_test_y)\n",
        "MSE_lasso=mean_squared_error(model_test_y,pred_y)\n",
        "RMSE_lasso=np.sqrt(MSE_lasso)\n",
        "print ('lasso score: ', lasso_score)\n",
        "print ('Mean square error of lasso: ', MSE_lasso)\n",
        "print ('Root mean squared error of lasso:', RMSE_lasso)"
      ],
      "execution_count": 0,
      "outputs": [
        {
          "output_type": "stream",
          "text": [
            "lasso score:  0.09954927178753703\n",
            "Mean square error of lasso:  238953191.99910036\n",
            "Root mean squared error of lasso: 15458.110880670392\n"
          ],
          "name": "stdout"
        }
      ]
    },
    {
      "cell_type": "code",
      "metadata": {
        "id": "B9xGbic-5mAj",
        "colab_type": "code",
        "outputId": "f9933739-bcf1-4598-aea7-4fbdb1314ac5",
        "colab": {
          "base_uri": "https://localhost:8080/",
          "height": 68
        }
      },
      "source": [
        "#for lasso_fp, alpha is 150.38869469554086\n",
        "\n",
        "# polynomial by 2\n",
        "poly=PolynomialFeatures(2)\n",
        "train_x_p=poly.fit_transform(model_train_x)\n",
        "test_x_p=poly.fit_transform(model_test_x)\n",
        "\n",
        "# predict with test dataset\n",
        "pred_y=lasso_fp.predict(test_x_p)\n",
        "# evaluate\n",
        "lasso_p_score=lasso_fp.score(test_x_p,model_test_y)\n",
        "MSE_lasso_p=mean_squared_error(model_test_y,pred_y)\n",
        "RMSE_lasso_p=np.sqrt(MSE_lasso_p)\n",
        "print ('lasso_p score: ', lasso_p_score)\n",
        "print ('Mean square error of lasso_p: ', MSE_lasso_p)\n",
        "print ('Root mean squared error of lasso_p:', RMSE_lasso_p)\n"
      ],
      "execution_count": 0,
      "outputs": [
        {
          "output_type": "stream",
          "text": [
            "lasso_p score:  -0.08392302339659707\n",
            "Mean square error of lasso_p:  287641353.60976607\n",
            "Root mean squared error of lasso_p: 16959.992736135417\n"
          ],
          "name": "stdout"
        }
      ]
    },
    {
      "cell_type": "code",
      "metadata": {
        "id": "j5DKLCuoFKkg",
        "colab_type": "code",
        "outputId": "0ebdb808-b3d5-4c84-d2f0-f61bf485c073",
        "colab": {
          "base_uri": "https://localhost:8080/",
          "height": 68
        }
      },
      "source": [
        "#for ridge,the optimal alpha is 163.97026580002054\n",
        "pred_y=ridge_f.predict(model_test_x)\n",
        "ridge_score=ridge_f.score(model_test_x,model_test_y)\n",
        "MSE_ridge=mean_squared_error(model_test_y,pred_y)\n",
        "RMSE_ridge=np.sqrt(MSE_ridge)\n",
        "print ('ridge score: ', ridge_score)\n",
        "print ('Mean square error of ridge: ', MSE_ridge)\n",
        "print ('Root mean squared error of ridge:', RMSE_ridge)"
      ],
      "execution_count": 0,
      "outputs": [
        {
          "output_type": "stream",
          "text": [
            "ridge score:  0.1138347209786399\n",
            "Mean square error of ridge:  235162253.10993823\n",
            "Root mean squared error of ridge: 15335.00091652877\n"
          ],
          "name": "stdout"
        }
      ]
    },
    {
      "cell_type": "code",
      "metadata": {
        "id": "Kwc3YCf6FmaO",
        "colab_type": "code",
        "outputId": "2b1e5d33-1118-4cd3-a032-4e858e1c9f79",
        "colab": {
          "base_uri": "https://localhost:8080/",
          "height": 68
        }
      },
      "source": [
        "#for ridge_fp, alpha is 14.38449888287663\n",
        "\n",
        "# polynomial by 2\n",
        "poly=PolynomialFeatures(2)\n",
        "train_x_p=poly.fit_transform(model_train_x)\n",
        "test_x_p=poly.fit_transform(model_test_x)\n",
        "\n",
        "# predict with test dataset\n",
        "pred_y=ridge_fp.predict(test_x_p)\n",
        "ridge_p_score=ridge_fp.score(test_x_p,model_test_y)\n",
        "MSE_ridge_p=mean_squared_error(model_test_y,pred_y)\n",
        "RMSE_ridge_p=np.sqrt(MSE_ridge_p)\n",
        "print ('ridge_p score: ', ridge_p_score)\n",
        "print ('Mean square error of ridge_p: ', MSE_ridge_p)\n",
        "print ('Root mean squared error of ridge_p:', RMSE_ridge_p)\n"
      ],
      "execution_count": 0,
      "outputs": [
        {
          "output_type": "stream",
          "text": [
            "ridge_p score:  0.3597253030430375\n",
            "Mean square error of ridge_p:  169910110.34867334\n",
            "Root mean squared error of ridge_p: 13034.957243837562\n"
          ],
          "name": "stdout"
        }
      ]
    },
    {
      "cell_type": "code",
      "metadata": {
        "id": "t1tPXxhCGlCN",
        "colab_type": "code",
        "outputId": "50eed656-2588-4a6e-bfaa-a09eb4d94de4",
        "colab": {
          "base_uri": "https://localhost:8080/",
          "height": 68
        }
      },
      "source": [
        "#For randomforest, the optimal n_estimators is 55 , the optimal max_depth is 16\n",
        "rf=RandomForestRegressor(n_estimators=55,max_depth=16,max_features='sqrt',random_state=2,n_jobs=-1)\n",
        "rf.fit(model_train_x,model_train_y)\n",
        "pred_y=rf.predict(model_test_x)\n",
        "rf_score=rf.score(model_test_x,model_test_y)\n",
        "MSE_rf=mean_squared_error(model_test_y,pred_y)\n",
        "RMSE_rf=np.sqrt(MSE_rf)\n",
        "print ('rf score: ', rf_score)\n",
        "print ('Mean square error of rf: ', MSE_rf)\n",
        "print ('Root mean squared error of rf:', RMSE_rf)"
      ],
      "execution_count": 0,
      "outputs": [
        {
          "output_type": "stream",
          "text": [
            "rf score:  0.5258720239721013\n",
            "Mean square error of rf:  125819647.58121368\n",
            "Root mean squared error of rf: 11216.935748287662\n"
          ],
          "name": "stdout"
        }
      ]
    },
    {
      "cell_type": "markdown",
      "metadata": {
        "id": "SUedcYN1HCbU",
        "colab_type": "text"
      },
      "source": [
        "### 5.2 Model Comparison"
      ]
    },
    {
      "cell_type": "markdown",
      "metadata": {
        "id": "OSDFv5ZSHLmC",
        "colab_type": "text"
      },
      "source": [
        "After getting all the scores and errors from the previous five models, I draw tables for better comparison."
      ]
    },
    {
      "cell_type": "code",
      "metadata": {
        "id": "I6nHHVXEHgtM",
        "colab_type": "code",
        "outputId": "1604a53d-df07-429c-9c9a-c1f32452d1af",
        "colab": {
          "base_uri": "https://localhost:8080/",
          "height": 832
        }
      },
      "source": [
        "lst_score = [lasso_score, lasso_p_score, ridge_score, ridge_p_score, rf_score]\n",
        "MSE_lst =  [MSE_lasso, MSE_lasso_p, MSE_ridge, MSE_ridge_p, MSE_rf]\n",
        "RMSE_lst =  [RMSE_lasso, RMSE_lasso_p, RMSE_ridge, RMSE_ridge_p, RMSE_rf]\n",
        "model_lst = ['Lasso_linear','Lasso poly', 'Ridge linear', 'Ridge poly', 'Random forest']\n",
        "\n",
        "plt.figure(1)\n",
        "plt.plot(model_lst, lst_score, 'ro')\n",
        "plt.legend(['r-squre / score'])\n",
        "plt.xlabel('model names',fontsize =16)\n",
        "plt.ylabel('score / r square', fontsize =16)\n",
        "plt.grid(True)\n",
        "plt.show()\n",
        "\n",
        "plt.figure(2)\n",
        "plt.plot(model_lst, MSE_lst, 'g^')\n",
        "plt.legend(['mean square error (MSE)'])\n",
        "plt.xlabel('model names', fontsize =16)\n",
        "plt.ylabel('mean square error', fontsize =16)\n",
        "plt.grid(True)\n",
        "plt.show()\n",
        "\n",
        "plt.figure(3)\n",
        "plt.plot(model_lst, RMSE_lst, 'bs')\n",
        "plt.legend(['root mean square error (RMSE)'])\n",
        "plt.xlabel('model names', fontsize =16)\n",
        "plt.ylabel('root mean square error', fontsize =16)\n",
        "plt.grid(True)\n",
        "plt.show()"
      ],
      "execution_count": 0,
      "outputs": [
        {
          "output_type": "display_data",
          "data": {
            "image/png": "[encoded data removed]",
            "text/plain": [
              "<Figure size 432x288 with 1 Axes>"
            ]
          },
          "metadata": {
            "tags": []
          }
        },
        {
          "output_type": "display_data",
          "data": {
            "image/png": "[encoded data removed]",
            "text/plain": [
              "<Figure size 432x288 with 1 Axes>"
            ]
          },
          "metadata": {
            "tags": []
          }
        },
        {
          "output_type": "display_data",
          "data": {
            "image/png": "[encoded data removed]",
            "text/plain": [
              "<Figure size 432x288 with 1 Axes>"
            ]
          },
          "metadata": {
            "tags": []
          }
        }
      ]
    },
    {
      "cell_type": "markdown",
      "metadata": {
        "id": "-nXGsqFpIH6X",
        "colab_type": "text"
      },
      "source": [
        "From the comparison, obviously Random Forest has the best performance among all five models. It has highest score and lowest MSE and RMSE. Hence, I got the winner model.\n"
      ]
    },
    {
      "cell_type": "markdown",
      "metadata": {
        "id": "cPehP0rbI_U8",
        "colab_type": "text"
      },
      "source": [
        "### 5.3 Other Insights : Feature Importance"
      ]
    },
    {
      "cell_type": "markdown",
      "metadata": {
        "id": "ixWqZOyHJJ7I",
        "colab_type": "text"
      },
      "source": [
        "Random forest in natural is a really good model and born with the festure selection ability."
      ]
    },
    {
      "cell_type": "code",
      "metadata": {
        "id": "1Xk9wQBeJIyc",
        "colab_type": "code",
        "outputId": "baf13bf2-a2c8-4d4f-b786-df3658a86110",
        "colab": {
          "base_uri": "https://localhost:8080/",
          "height": 408
        }
      },
      "source": [
        "importances = rf.feature_importances_\n",
        "feature_name = model_train_x.columns.values\n",
        "indices = np.argsort(importances)[::-1]\n",
        "plt.figure(1)\n",
        "plt.bar(feature_name[indices[:20]], importances[indices[:20]])\n",
        "plt.xticks(rotation=90)\n",
        "plt.show()"
      ],
      "execution_count": 0,
      "outputs": [
        {
          "output_type": "display_data",
          "data": {
            "image/png": "[encoded data removed]",
            "text/plain": [
              "<Figure size 432x288 with 1 Axes>"
            ]
          },
          "metadata": {
            "tags": []
          }
        }
      ]
    },
    {
      "cell_type": "markdown",
      "metadata": {
        "id": "PJ74ErvMKKcF",
        "colab_type": "text"
      },
      "source": [
        "From the feature_importances plot, the position of the movie on the platform is fairly important. Following the \"Golden Triangle\" rule, that movies on the top left cornor are mostly like to be watched.\n",
        "\n",
        "More than that, I see the \"imdb_votes\" is the most important feature, which makes sense that people tend to watch movies that have already got good repurtation.\n",
        "\n",
        "However, from the other side, the \"Golden Position\" might be related to good recommendation system that from the watching history, movies that match the customers' watching preference get better position. This is an interesting point that could be done in the future."
      ]
    }
  ]
}